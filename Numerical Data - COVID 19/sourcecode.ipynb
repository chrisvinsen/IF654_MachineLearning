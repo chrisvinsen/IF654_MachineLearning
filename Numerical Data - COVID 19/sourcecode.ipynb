{
  "nbformat": 4,
  "nbformat_minor": 0,
  "metadata": {
    "colab": {
      "name": "All Numerik.ipynb",
      "provenance": [],
      "collapsed_sections": [],
      "toc_visible": true
    },
    "kernelspec": {
      "name": "python3",
      "display_name": "Python 3"
    },
    "accelerator": "TPU"
  },
  "cells": [
    {
      "cell_type": "markdown",
      "metadata": {
        "id": "OwWP4TFCnqr_"
      },
      "source": [
        "**Sumber Dataset: https://www.kaggle.com/hendratno/covid19-indonesia**"
      ]
    },
    {
      "cell_type": "markdown",
      "metadata": {
        "id": "szvusvpFpHKP"
      },
      "source": [
        "**Dataset Name:** COVID-19 Indonesia Dataset"
      ]
    },
    {
      "cell_type": "markdown",
      "metadata": {
        "id": "IlZhPASFpLt1"
      },
      "source": [
        "**Main Attribute Dataset Information:**\r\n",
        "1. Date = Reporting Date\r\n",
        "2. New Cases = New daily positive cases\r\n",
        "3. New Deaths = New daily deaths\r\n",
        "4. New Recovered = New daily recovered\r\n",
        "5. New Active Cases = New daily active cases\r\n",
        "6. Total Cases = Total positive cases until the related date\r\n",
        "7. Total Deaths = Total deaths until the related date\r\n",
        "8. Total Recovered = Total recovered until the related date\r\n",
        "9. Total Active Cases = Total active cases until the related date"
      ]
    },
    {
      "cell_type": "markdown",
      "metadata": {
        "id": "J9WpO1HRIf7p"
      },
      "source": [
        "# **Week 1 - Intoduction**"
      ]
    },
    {
      "cell_type": "code",
      "metadata": {
        "colab": {
          "base_uri": "https://localhost:8080/"
        },
        "id": "Hgd8aus8ddR7",
        "outputId": "ddddd803-fcb0-4246-82c3-617a0c41d41a"
      },
      "source": [
        "# Install mglearn packages\r\n",
        "!pip install mglearn"
      ],
      "execution_count": 1,
      "outputs": [
        {
          "output_type": "stream",
          "text": [
            "Requirement already satisfied: mglearn in /usr/local/lib/python3.7/dist-packages (0.1.9)\n",
            "Requirement already satisfied: pandas in /usr/local/lib/python3.7/dist-packages (from mglearn) (1.1.5)\n",
            "Requirement already satisfied: scikit-learn in /usr/local/lib/python3.7/dist-packages (from mglearn) (0.22.2.post1)\n",
            "Requirement already satisfied: cycler in /usr/local/lib/python3.7/dist-packages (from mglearn) (0.10.0)\n",
            "Requirement already satisfied: numpy in /usr/local/lib/python3.7/dist-packages (from mglearn) (1.19.5)\n",
            "Requirement already satisfied: joblib in /usr/local/lib/python3.7/dist-packages (from mglearn) (1.0.1)\n",
            "Requirement already satisfied: pillow in /usr/local/lib/python3.7/dist-packages (from mglearn) (7.0.0)\n",
            "Requirement already satisfied: matplotlib in /usr/local/lib/python3.7/dist-packages (from mglearn) (3.2.2)\n",
            "Requirement already satisfied: imageio in /usr/local/lib/python3.7/dist-packages (from mglearn) (2.4.1)\n",
            "Requirement already satisfied: pytz>=2017.2 in /usr/local/lib/python3.7/dist-packages (from pandas->mglearn) (2018.9)\n",
            "Requirement already satisfied: python-dateutil>=2.7.3 in /usr/local/lib/python3.7/dist-packages (from pandas->mglearn) (2.8.1)\n",
            "Requirement already satisfied: scipy>=0.17.0 in /usr/local/lib/python3.7/dist-packages (from scikit-learn->mglearn) (1.4.1)\n",
            "Requirement already satisfied: six in /usr/local/lib/python3.7/dist-packages (from cycler->mglearn) (1.15.0)\n",
            "Requirement already satisfied: kiwisolver>=1.0.1 in /usr/local/lib/python3.7/dist-packages (from matplotlib->mglearn) (1.3.1)\n",
            "Requirement already satisfied: pyparsing!=2.0.4,!=2.1.2,!=2.1.6,>=2.0.1 in /usr/local/lib/python3.7/dist-packages (from matplotlib->mglearn) (2.4.7)\n"
          ],
          "name": "stdout"
        }
      ]
    },
    {
      "cell_type": "code",
      "metadata": {
        "id": "-CG0l1CZCxoH"
      },
      "source": [
        "# import library\r\n",
        "\r\n",
        "import numpy as np # linear algebra\r\n",
        "import pandas as pd # data processing, CSV file I/O (e.g. pd.read_csv)\r\n",
        "import matplotlib.pyplot as plt # for data visualization purposes\r\n",
        "import mglearn\r\n",
        "import datetime as dt"
      ],
      "execution_count": 2,
      "outputs": []
    },
    {
      "cell_type": "code",
      "metadata": {
        "colab": {
          "base_uri": "https://localhost:8080/"
        },
        "id": "LjqL_xl8C-CW",
        "outputId": "4875aa55-d04f-433c-c64a-9b676dc4e993"
      },
      "source": [
        "# connect to google drive\r\n",
        "\r\n",
        "# from google.colab import drive\r\n",
        "# drive.mount('/content/drive')\r\n",
        "\r\n",
        "# path = '/content/drive/My Drive/Colab Notebooks/Machine Learning Class/Tugas Sebelum UTS/Numerical Data - Covid 19/'\r\n",
        "\r\n",
        "path = ''"
      ],
      "execution_count": 3,
      "outputs": [
        {
          "output_type": "stream",
          "text": [
            "Drive already mounted at /content/drive; to attempt to forcibly remount, call drive.mount(\"/content/drive\", force_remount=True).\n"
          ],
          "name": "stdout"
        }
      ]
    },
    {
      "cell_type": "code",
      "metadata": {
        "colab": {
          "base_uri": "https://localhost:8080/",
          "height": 694
        },
        "id": "mqKmr0hADPlW",
        "outputId": "aee49c4f-eef7-4a82-a521-fdb163c79302"
      },
      "source": [
        "# Baca dan load dataset Covid 19\r\n",
        "\r\n",
        "dataset = pd.read_csv(path + 'covid_19_indonesia_time_series_all.csv')\r\n",
        "# convert feature Date dari string ke object date\r\n",
        "dataset['Date'] = pd.to_datetime(dataset['Date'])\r\n",
        "dataset"
      ],
      "execution_count": 4,
      "outputs": [
        {
          "output_type": "execute_result",
          "data": {
            "text/html": [
              "<div>\n",
              "<style scoped>\n",
              "    .dataframe tbody tr th:only-of-type {\n",
              "        vertical-align: middle;\n",
              "    }\n",
              "\n",
              "    .dataframe tbody tr th {\n",
              "        vertical-align: top;\n",
              "    }\n",
              "\n",
              "    .dataframe thead th {\n",
              "        text-align: right;\n",
              "    }\n",
              "</style>\n",
              "<table border=\"1\" class=\"dataframe\">\n",
              "  <thead>\n",
              "    <tr style=\"text-align: right;\">\n",
              "      <th></th>\n",
              "      <th>Date</th>\n",
              "      <th>Location ISO Code</th>\n",
              "      <th>Location</th>\n",
              "      <th>New Cases</th>\n",
              "      <th>New Deaths</th>\n",
              "      <th>New Recovered</th>\n",
              "      <th>New Active Cases</th>\n",
              "      <th>Total Cases</th>\n",
              "      <th>Total Deaths</th>\n",
              "      <th>Total Recovered</th>\n",
              "      <th>Total Active Cases</th>\n",
              "      <th>Location Level</th>\n",
              "      <th>City or Regency</th>\n",
              "      <th>Province</th>\n",
              "      <th>Country</th>\n",
              "      <th>Continent</th>\n",
              "      <th>Island</th>\n",
              "      <th>Time Zone</th>\n",
              "      <th>Special Status</th>\n",
              "      <th>Total Regencies</th>\n",
              "      <th>Total Cities</th>\n",
              "      <th>Total Districts</th>\n",
              "      <th>Total Urban Villages</th>\n",
              "      <th>Total Rural Villages</th>\n",
              "      <th>Area (km2)</th>\n",
              "      <th>Population</th>\n",
              "      <th>Population Density</th>\n",
              "      <th>Longitude</th>\n",
              "      <th>Latitude</th>\n",
              "      <th>New Cases per Million</th>\n",
              "      <th>Total Cases per Million</th>\n",
              "      <th>New Deaths per Million</th>\n",
              "      <th>Total Deaths per Million</th>\n",
              "      <th>Case Fatality Rate</th>\n",
              "      <th>Case Recovered Rate</th>\n",
              "      <th>Growth Factor of New Cases</th>\n",
              "      <th>Growth Factor of New Deaths</th>\n",
              "    </tr>\n",
              "  </thead>\n",
              "  <tbody>\n",
              "    <tr>\n",
              "      <th>0</th>\n",
              "      <td>2020-03-01</td>\n",
              "      <td>ID-JK</td>\n",
              "      <td>DKI Jakarta</td>\n",
              "      <td>2</td>\n",
              "      <td>0</td>\n",
              "      <td>0</td>\n",
              "      <td>2</td>\n",
              "      <td>489</td>\n",
              "      <td>20</td>\n",
              "      <td>39</td>\n",
              "      <td>430</td>\n",
              "      <td>Province</td>\n",
              "      <td>NaN</td>\n",
              "      <td>DKI Jakarta</td>\n",
              "      <td>Indonesia</td>\n",
              "      <td>Asia</td>\n",
              "      <td>Jawa</td>\n",
              "      <td>UTC+07:00</td>\n",
              "      <td>Daerah Khusus Ibu Kota</td>\n",
              "      <td>1</td>\n",
              "      <td>5.0</td>\n",
              "      <td>44</td>\n",
              "      <td>267.0</td>\n",
              "      <td>NaN</td>\n",
              "      <td>664</td>\n",
              "      <td>10846145</td>\n",
              "      <td>16334.31</td>\n",
              "      <td>106.836118</td>\n",
              "      <td>-6.204699</td>\n",
              "      <td>0.18</td>\n",
              "      <td>45.09</td>\n",
              "      <td>0.00</td>\n",
              "      <td>1.84</td>\n",
              "      <td>4.09%</td>\n",
              "      <td>7.98%</td>\n",
              "      <td>NaN</td>\n",
              "      <td>NaN</td>\n",
              "    </tr>\n",
              "    <tr>\n",
              "      <th>1</th>\n",
              "      <td>2020-03-02</td>\n",
              "      <td>ID-JK</td>\n",
              "      <td>DKI Jakarta</td>\n",
              "      <td>2</td>\n",
              "      <td>0</td>\n",
              "      <td>0</td>\n",
              "      <td>2</td>\n",
              "      <td>491</td>\n",
              "      <td>20</td>\n",
              "      <td>39</td>\n",
              "      <td>432</td>\n",
              "      <td>Province</td>\n",
              "      <td>NaN</td>\n",
              "      <td>DKI Jakarta</td>\n",
              "      <td>Indonesia</td>\n",
              "      <td>Asia</td>\n",
              "      <td>Jawa</td>\n",
              "      <td>UTC+07:00</td>\n",
              "      <td>Daerah Khusus Ibu Kota</td>\n",
              "      <td>1</td>\n",
              "      <td>5.0</td>\n",
              "      <td>44</td>\n",
              "      <td>267.0</td>\n",
              "      <td>NaN</td>\n",
              "      <td>664</td>\n",
              "      <td>10846145</td>\n",
              "      <td>16334.31</td>\n",
              "      <td>106.836118</td>\n",
              "      <td>-6.204699</td>\n",
              "      <td>0.18</td>\n",
              "      <td>45.27</td>\n",
              "      <td>0.00</td>\n",
              "      <td>1.84</td>\n",
              "      <td>4.07%</td>\n",
              "      <td>7.94%</td>\n",
              "      <td>1.00</td>\n",
              "      <td>1.00</td>\n",
              "    </tr>\n",
              "    <tr>\n",
              "      <th>2</th>\n",
              "      <td>2020-03-02</td>\n",
              "      <td>IDN</td>\n",
              "      <td>Indonesia</td>\n",
              "      <td>2</td>\n",
              "      <td>0</td>\n",
              "      <td>0</td>\n",
              "      <td>2</td>\n",
              "      <td>2</td>\n",
              "      <td>0</td>\n",
              "      <td>0</td>\n",
              "      <td>2</td>\n",
              "      <td>Country</td>\n",
              "      <td>NaN</td>\n",
              "      <td>NaN</td>\n",
              "      <td>Indonesia</td>\n",
              "      <td>Asia</td>\n",
              "      <td>NaN</td>\n",
              "      <td>NaN</td>\n",
              "      <td>NaN</td>\n",
              "      <td>416</td>\n",
              "      <td>98.0</td>\n",
              "      <td>7230</td>\n",
              "      <td>8488.0</td>\n",
              "      <td>74953.0</td>\n",
              "      <td>1916907</td>\n",
              "      <td>265185520</td>\n",
              "      <td>138.34</td>\n",
              "      <td>113.921327</td>\n",
              "      <td>-0.789275</td>\n",
              "      <td>0.01</td>\n",
              "      <td>0.01</td>\n",
              "      <td>0.00</td>\n",
              "      <td>0.00</td>\n",
              "      <td>0.00%</td>\n",
              "      <td>0.00%</td>\n",
              "      <td>NaN</td>\n",
              "      <td>NaN</td>\n",
              "    </tr>\n",
              "    <tr>\n",
              "      <th>3</th>\n",
              "      <td>2020-03-02</td>\n",
              "      <td>ID-JB</td>\n",
              "      <td>Jawa Barat</td>\n",
              "      <td>3</td>\n",
              "      <td>0</td>\n",
              "      <td>0</td>\n",
              "      <td>3</td>\n",
              "      <td>12</td>\n",
              "      <td>5</td>\n",
              "      <td>135</td>\n",
              "      <td>-128</td>\n",
              "      <td>Province</td>\n",
              "      <td>NaN</td>\n",
              "      <td>Jawa Barat</td>\n",
              "      <td>Indonesia</td>\n",
              "      <td>Asia</td>\n",
              "      <td>Jawa</td>\n",
              "      <td>UTC+07:00</td>\n",
              "      <td>NaN</td>\n",
              "      <td>18</td>\n",
              "      <td>9.0</td>\n",
              "      <td>627</td>\n",
              "      <td>645.0</td>\n",
              "      <td>5312.0</td>\n",
              "      <td>35378</td>\n",
              "      <td>45161325</td>\n",
              "      <td>1276.55</td>\n",
              "      <td>107.603708</td>\n",
              "      <td>-6.920432</td>\n",
              "      <td>0.07</td>\n",
              "      <td>0.27</td>\n",
              "      <td>0.00</td>\n",
              "      <td>0.11</td>\n",
              "      <td>41.67%</td>\n",
              "      <td>1125.00%</td>\n",
              "      <td>NaN</td>\n",
              "      <td>NaN</td>\n",
              "    </tr>\n",
              "    <tr>\n",
              "      <th>4</th>\n",
              "      <td>2020-03-02</td>\n",
              "      <td>ID-RI</td>\n",
              "      <td>Riau</td>\n",
              "      <td>1</td>\n",
              "      <td>0</td>\n",
              "      <td>0</td>\n",
              "      <td>1</td>\n",
              "      <td>2</td>\n",
              "      <td>1</td>\n",
              "      <td>1</td>\n",
              "      <td>0</td>\n",
              "      <td>Province</td>\n",
              "      <td>NaN</td>\n",
              "      <td>Riau</td>\n",
              "      <td>Indonesia</td>\n",
              "      <td>Asia</td>\n",
              "      <td>Sumatera</td>\n",
              "      <td>UTC+07:00</td>\n",
              "      <td>NaN</td>\n",
              "      <td>10</td>\n",
              "      <td>2.0</td>\n",
              "      <td>169</td>\n",
              "      <td>268.0</td>\n",
              "      <td>1591.0</td>\n",
              "      <td>87024</td>\n",
              "      <td>6074100</td>\n",
              "      <td>69.80</td>\n",
              "      <td>101.805109</td>\n",
              "      <td>0.511648</td>\n",
              "      <td>0.16</td>\n",
              "      <td>0.33</td>\n",
              "      <td>0.00</td>\n",
              "      <td>0.16</td>\n",
              "      <td>50.00%</td>\n",
              "      <td>50.00%</td>\n",
              "      <td>NaN</td>\n",
              "      <td>NaN</td>\n",
              "    </tr>\n",
              "    <tr>\n",
              "      <th>...</th>\n",
              "      <td>...</td>\n",
              "      <td>...</td>\n",
              "      <td>...</td>\n",
              "      <td>...</td>\n",
              "      <td>...</td>\n",
              "      <td>...</td>\n",
              "      <td>...</td>\n",
              "      <td>...</td>\n",
              "      <td>...</td>\n",
              "      <td>...</td>\n",
              "      <td>...</td>\n",
              "      <td>...</td>\n",
              "      <td>...</td>\n",
              "      <td>...</td>\n",
              "      <td>...</td>\n",
              "      <td>...</td>\n",
              "      <td>...</td>\n",
              "      <td>...</td>\n",
              "      <td>...</td>\n",
              "      <td>...</td>\n",
              "      <td>...</td>\n",
              "      <td>...</td>\n",
              "      <td>...</td>\n",
              "      <td>...</td>\n",
              "      <td>...</td>\n",
              "      <td>...</td>\n",
              "      <td>...</td>\n",
              "      <td>...</td>\n",
              "      <td>...</td>\n",
              "      <td>...</td>\n",
              "      <td>...</td>\n",
              "      <td>...</td>\n",
              "      <td>...</td>\n",
              "      <td>...</td>\n",
              "      <td>...</td>\n",
              "      <td>...</td>\n",
              "      <td>...</td>\n",
              "    </tr>\n",
              "    <tr>\n",
              "      <th>10689</th>\n",
              "      <td>2021-01-21</td>\n",
              "      <td>ID-SG</td>\n",
              "      <td>Sulawesi Tenggara</td>\n",
              "      <td>77</td>\n",
              "      <td>1</td>\n",
              "      <td>1</td>\n",
              "      <td>75</td>\n",
              "      <td>9016</td>\n",
              "      <td>172</td>\n",
              "      <td>7392</td>\n",
              "      <td>1452</td>\n",
              "      <td>Province</td>\n",
              "      <td>NaN</td>\n",
              "      <td>Sulawesi Tenggara</td>\n",
              "      <td>Indonesia</td>\n",
              "      <td>Asia</td>\n",
              "      <td>Sulawesi</td>\n",
              "      <td>UTC+08:00</td>\n",
              "      <td>NaN</td>\n",
              "      <td>15</td>\n",
              "      <td>2.0</td>\n",
              "      <td>219</td>\n",
              "      <td>377.0</td>\n",
              "      <td>1911.0</td>\n",
              "      <td>38068</td>\n",
              "      <td>2635461</td>\n",
              "      <td>69.23</td>\n",
              "      <td>122.070311</td>\n",
              "      <td>-4.124689</td>\n",
              "      <td>29.22</td>\n",
              "      <td>3421.03</td>\n",
              "      <td>0.38</td>\n",
              "      <td>65.26</td>\n",
              "      <td>1.91%</td>\n",
              "      <td>81.99%</td>\n",
              "      <td>1.97</td>\n",
              "      <td>NaN</td>\n",
              "    </tr>\n",
              "    <tr>\n",
              "      <th>10690</th>\n",
              "      <td>2021-01-21</td>\n",
              "      <td>ID-SA</td>\n",
              "      <td>Sulawesi Utara</td>\n",
              "      <td>92</td>\n",
              "      <td>2</td>\n",
              "      <td>83</td>\n",
              "      <td>7</td>\n",
              "      <td>11931</td>\n",
              "      <td>361</td>\n",
              "      <td>8497</td>\n",
              "      <td>3073</td>\n",
              "      <td>Province</td>\n",
              "      <td>NaN</td>\n",
              "      <td>Sulawesi Utara</td>\n",
              "      <td>Indonesia</td>\n",
              "      <td>Asia</td>\n",
              "      <td>Sulawesi</td>\n",
              "      <td>UTC+08:00</td>\n",
              "      <td>NaN</td>\n",
              "      <td>11</td>\n",
              "      <td>4.0</td>\n",
              "      <td>171</td>\n",
              "      <td>332.0</td>\n",
              "      <td>1507.0</td>\n",
              "      <td>13892</td>\n",
              "      <td>2641884</td>\n",
              "      <td>190.17</td>\n",
              "      <td>124.521240</td>\n",
              "      <td>1.259638</td>\n",
              "      <td>34.82</td>\n",
              "      <td>4516.10</td>\n",
              "      <td>0.76</td>\n",
              "      <td>136.64</td>\n",
              "      <td>3.03%</td>\n",
              "      <td>71.22%</td>\n",
              "      <td>0.39</td>\n",
              "      <td>1.00</td>\n",
              "    </tr>\n",
              "    <tr>\n",
              "      <th>10691</th>\n",
              "      <td>2021-01-21</td>\n",
              "      <td>ID-SB</td>\n",
              "      <td>Sumatera Barat</td>\n",
              "      <td>181</td>\n",
              "      <td>4</td>\n",
              "      <td>49</td>\n",
              "      <td>128</td>\n",
              "      <td>26091</td>\n",
              "      <td>577</td>\n",
              "      <td>18591</td>\n",
              "      <td>6923</td>\n",
              "      <td>Province</td>\n",
              "      <td>NaN</td>\n",
              "      <td>Sumatera Barat</td>\n",
              "      <td>Indonesia</td>\n",
              "      <td>Asia</td>\n",
              "      <td>Sumatera</td>\n",
              "      <td>UTC+07:00</td>\n",
              "      <td>NaN</td>\n",
              "      <td>12</td>\n",
              "      <td>7.0</td>\n",
              "      <td>179</td>\n",
              "      <td>230.0</td>\n",
              "      <td>928.0</td>\n",
              "      <td>42013</td>\n",
              "      <td>5519245</td>\n",
              "      <td>131.37</td>\n",
              "      <td>100.465062</td>\n",
              "      <td>-0.850253</td>\n",
              "      <td>32.79</td>\n",
              "      <td>4727.28</td>\n",
              "      <td>0.72</td>\n",
              "      <td>104.54</td>\n",
              "      <td>2.21%</td>\n",
              "      <td>71.25%</td>\n",
              "      <td>1.08</td>\n",
              "      <td>0.57</td>\n",
              "    </tr>\n",
              "    <tr>\n",
              "      <th>10692</th>\n",
              "      <td>2021-01-21</td>\n",
              "      <td>ID-SS</td>\n",
              "      <td>Sumatera Selatan</td>\n",
              "      <td>101</td>\n",
              "      <td>6</td>\n",
              "      <td>49</td>\n",
              "      <td>46</td>\n",
              "      <td>13437</td>\n",
              "      <td>652</td>\n",
              "      <td>10834</td>\n",
              "      <td>1951</td>\n",
              "      <td>Province</td>\n",
              "      <td>NaN</td>\n",
              "      <td>Sumatera Selatan</td>\n",
              "      <td>Indonesia</td>\n",
              "      <td>Asia</td>\n",
              "      <td>Sumatera</td>\n",
              "      <td>UTC+07:00</td>\n",
              "      <td>NaN</td>\n",
              "      <td>13</td>\n",
              "      <td>4.0</td>\n",
              "      <td>241</td>\n",
              "      <td>387.0</td>\n",
              "      <td>2853.0</td>\n",
              "      <td>91592</td>\n",
              "      <td>8217551</td>\n",
              "      <td>89.72</td>\n",
              "      <td>104.169465</td>\n",
              "      <td>-3.216212</td>\n",
              "      <td>12.29</td>\n",
              "      <td>1635.16</td>\n",
              "      <td>0.73</td>\n",
              "      <td>79.34</td>\n",
              "      <td>4.85%</td>\n",
              "      <td>80.63%</td>\n",
              "      <td>0.92</td>\n",
              "      <td>6.00</td>\n",
              "    </tr>\n",
              "    <tr>\n",
              "      <th>10693</th>\n",
              "      <td>2021-01-21</td>\n",
              "      <td>ID-SU</td>\n",
              "      <td>Sumatera Utara</td>\n",
              "      <td>83</td>\n",
              "      <td>1</td>\n",
              "      <td>80</td>\n",
              "      <td>2</td>\n",
              "      <td>19962</td>\n",
              "      <td>719</td>\n",
              "      <td>17228</td>\n",
              "      <td>2015</td>\n",
              "      <td>Province</td>\n",
              "      <td>NaN</td>\n",
              "      <td>Sumatera Utara</td>\n",
              "      <td>Indonesia</td>\n",
              "      <td>Asia</td>\n",
              "      <td>Sumatera</td>\n",
              "      <td>UTC+07:00</td>\n",
              "      <td>NaN</td>\n",
              "      <td>25</td>\n",
              "      <td>8.0</td>\n",
              "      <td>450</td>\n",
              "      <td>693.0</td>\n",
              "      <td>5417.0</td>\n",
              "      <td>72981</td>\n",
              "      <td>14874889</td>\n",
              "      <td>203.82</td>\n",
              "      <td>99.051964</td>\n",
              "      <td>2.191894</td>\n",
              "      <td>5.58</td>\n",
              "      <td>1341.99</td>\n",
              "      <td>0.07</td>\n",
              "      <td>48.34</td>\n",
              "      <td>3.60%</td>\n",
              "      <td>86.30%</td>\n",
              "      <td>1.04</td>\n",
              "      <td>0.50</td>\n",
              "    </tr>\n",
              "  </tbody>\n",
              "</table>\n",
              "<p>10694 rows × 37 columns</p>\n",
              "</div>"
            ],
            "text/plain": [
              "            Date  ... Growth Factor of New Deaths\n",
              "0     2020-03-01  ...                         NaN\n",
              "1     2020-03-02  ...                        1.00\n",
              "2     2020-03-02  ...                         NaN\n",
              "3     2020-03-02  ...                         NaN\n",
              "4     2020-03-02  ...                         NaN\n",
              "...          ...  ...                         ...\n",
              "10689 2021-01-21  ...                         NaN\n",
              "10690 2021-01-21  ...                        1.00\n",
              "10691 2021-01-21  ...                        0.57\n",
              "10692 2021-01-21  ...                        6.00\n",
              "10693 2021-01-21  ...                        0.50\n",
              "\n",
              "[10694 rows x 37 columns]"
            ]
          },
          "metadata": {
            "tags": []
          },
          "execution_count": 4
        }
      ]
    },
    {
      "cell_type": "code",
      "metadata": {
        "id": "KtV_lQytEYl8"
      },
      "source": [
        "# Ambil beberapa feature penting yang akan digunakan untuk perhitungan dan prediksi\r\n",
        "\r\n",
        "dataset = dataset[['Date', 'New Cases', 'New Deaths', 'New Recovered',\t'New Active Cases',\t'Total Cases', 'Total Deaths', 'Total Recovered',\t'Total Active Cases']]"
      ],
      "execution_count": 5,
      "outputs": []
    },
    {
      "cell_type": "code",
      "metadata": {
        "colab": {
          "base_uri": "https://localhost:8080/"
        },
        "id": "RQd1WQJlDTlt",
        "outputId": "db7330ba-8754-4b83-e636-58e80511abdb"
      },
      "source": [
        "# Ubah object date menjadi data ordinal berupa integer guna memudahkan proses selanjutnya\r\n",
        "\r\n",
        "dataset['Date'] = dataset['Date'].map(dt.datetime.toordinal)"
      ],
      "execution_count": 6,
      "outputs": [
        {
          "output_type": "stream",
          "text": [
            "/usr/local/lib/python3.7/dist-packages/ipykernel_launcher.py:3: SettingWithCopyWarning: \n",
            "A value is trying to be set on a copy of a slice from a DataFrame.\n",
            "Try using .loc[row_indexer,col_indexer] = value instead\n",
            "\n",
            "See the caveats in the documentation: https://pandas.pydata.org/pandas-docs/stable/user_guide/indexing.html#returning-a-view-versus-a-copy\n",
            "  This is separate from the ipykernel package so we can avoid doing imports until\n"
          ],
          "name": "stderr"
        }
      ]
    },
    {
      "cell_type": "code",
      "metadata": {
        "colab": {
          "base_uri": "https://localhost:8080/",
          "height": 221
        },
        "id": "VV1fErhIpBki",
        "outputId": "571c9e3b-7c72-413e-8122-5054ac1ebc0b"
      },
      "source": [
        "# Lihat 5 data pertama dari dataset\r\n",
        "\r\n",
        "dataset.head()"
      ],
      "execution_count": 7,
      "outputs": [
        {
          "output_type": "execute_result",
          "data": {
            "text/html": [
              "<div>\n",
              "<style scoped>\n",
              "    .dataframe tbody tr th:only-of-type {\n",
              "        vertical-align: middle;\n",
              "    }\n",
              "\n",
              "    .dataframe tbody tr th {\n",
              "        vertical-align: top;\n",
              "    }\n",
              "\n",
              "    .dataframe thead th {\n",
              "        text-align: right;\n",
              "    }\n",
              "</style>\n",
              "<table border=\"1\" class=\"dataframe\">\n",
              "  <thead>\n",
              "    <tr style=\"text-align: right;\">\n",
              "      <th></th>\n",
              "      <th>Date</th>\n",
              "      <th>New Cases</th>\n",
              "      <th>New Deaths</th>\n",
              "      <th>New Recovered</th>\n",
              "      <th>New Active Cases</th>\n",
              "      <th>Total Cases</th>\n",
              "      <th>Total Deaths</th>\n",
              "      <th>Total Recovered</th>\n",
              "      <th>Total Active Cases</th>\n",
              "    </tr>\n",
              "  </thead>\n",
              "  <tbody>\n",
              "    <tr>\n",
              "      <th>0</th>\n",
              "      <td>737485</td>\n",
              "      <td>2</td>\n",
              "      <td>0</td>\n",
              "      <td>0</td>\n",
              "      <td>2</td>\n",
              "      <td>489</td>\n",
              "      <td>20</td>\n",
              "      <td>39</td>\n",
              "      <td>430</td>\n",
              "    </tr>\n",
              "    <tr>\n",
              "      <th>1</th>\n",
              "      <td>737486</td>\n",
              "      <td>2</td>\n",
              "      <td>0</td>\n",
              "      <td>0</td>\n",
              "      <td>2</td>\n",
              "      <td>491</td>\n",
              "      <td>20</td>\n",
              "      <td>39</td>\n",
              "      <td>432</td>\n",
              "    </tr>\n",
              "    <tr>\n",
              "      <th>2</th>\n",
              "      <td>737486</td>\n",
              "      <td>2</td>\n",
              "      <td>0</td>\n",
              "      <td>0</td>\n",
              "      <td>2</td>\n",
              "      <td>2</td>\n",
              "      <td>0</td>\n",
              "      <td>0</td>\n",
              "      <td>2</td>\n",
              "    </tr>\n",
              "    <tr>\n",
              "      <th>3</th>\n",
              "      <td>737486</td>\n",
              "      <td>3</td>\n",
              "      <td>0</td>\n",
              "      <td>0</td>\n",
              "      <td>3</td>\n",
              "      <td>12</td>\n",
              "      <td>5</td>\n",
              "      <td>135</td>\n",
              "      <td>-128</td>\n",
              "    </tr>\n",
              "    <tr>\n",
              "      <th>4</th>\n",
              "      <td>737486</td>\n",
              "      <td>1</td>\n",
              "      <td>0</td>\n",
              "      <td>0</td>\n",
              "      <td>1</td>\n",
              "      <td>2</td>\n",
              "      <td>1</td>\n",
              "      <td>1</td>\n",
              "      <td>0</td>\n",
              "    </tr>\n",
              "  </tbody>\n",
              "</table>\n",
              "</div>"
            ],
            "text/plain": [
              "     Date  New Cases  ...  Total Recovered  Total Active Cases\n",
              "0  737485          2  ...               39                 430\n",
              "1  737486          2  ...               39                 432\n",
              "2  737486          2  ...                0                   2\n",
              "3  737486          3  ...              135                -128\n",
              "4  737486          1  ...                1                   0\n",
              "\n",
              "[5 rows x 9 columns]"
            ]
          },
          "metadata": {
            "tags": []
          },
          "execution_count": 7
        }
      ]
    },
    {
      "cell_type": "code",
      "metadata": {
        "colab": {
          "base_uri": "https://localhost:8080/",
          "height": 221
        },
        "id": "Zp4Ij9Ykh2Cu",
        "outputId": "3e0a751a-4d5d-4931-b131-ef9457607be3"
      },
      "source": [
        "# Lihat 5 data terakhir dari dataset\r\n",
        "\r\n",
        "dataset.tail()"
      ],
      "execution_count": 8,
      "outputs": [
        {
          "output_type": "execute_result",
          "data": {
            "text/html": [
              "<div>\n",
              "<style scoped>\n",
              "    .dataframe tbody tr th:only-of-type {\n",
              "        vertical-align: middle;\n",
              "    }\n",
              "\n",
              "    .dataframe tbody tr th {\n",
              "        vertical-align: top;\n",
              "    }\n",
              "\n",
              "    .dataframe thead th {\n",
              "        text-align: right;\n",
              "    }\n",
              "</style>\n",
              "<table border=\"1\" class=\"dataframe\">\n",
              "  <thead>\n",
              "    <tr style=\"text-align: right;\">\n",
              "      <th></th>\n",
              "      <th>Date</th>\n",
              "      <th>New Cases</th>\n",
              "      <th>New Deaths</th>\n",
              "      <th>New Recovered</th>\n",
              "      <th>New Active Cases</th>\n",
              "      <th>Total Cases</th>\n",
              "      <th>Total Deaths</th>\n",
              "      <th>Total Recovered</th>\n",
              "      <th>Total Active Cases</th>\n",
              "    </tr>\n",
              "  </thead>\n",
              "  <tbody>\n",
              "    <tr>\n",
              "      <th>10689</th>\n",
              "      <td>737811</td>\n",
              "      <td>77</td>\n",
              "      <td>1</td>\n",
              "      <td>1</td>\n",
              "      <td>75</td>\n",
              "      <td>9016</td>\n",
              "      <td>172</td>\n",
              "      <td>7392</td>\n",
              "      <td>1452</td>\n",
              "    </tr>\n",
              "    <tr>\n",
              "      <th>10690</th>\n",
              "      <td>737811</td>\n",
              "      <td>92</td>\n",
              "      <td>2</td>\n",
              "      <td>83</td>\n",
              "      <td>7</td>\n",
              "      <td>11931</td>\n",
              "      <td>361</td>\n",
              "      <td>8497</td>\n",
              "      <td>3073</td>\n",
              "    </tr>\n",
              "    <tr>\n",
              "      <th>10691</th>\n",
              "      <td>737811</td>\n",
              "      <td>181</td>\n",
              "      <td>4</td>\n",
              "      <td>49</td>\n",
              "      <td>128</td>\n",
              "      <td>26091</td>\n",
              "      <td>577</td>\n",
              "      <td>18591</td>\n",
              "      <td>6923</td>\n",
              "    </tr>\n",
              "    <tr>\n",
              "      <th>10692</th>\n",
              "      <td>737811</td>\n",
              "      <td>101</td>\n",
              "      <td>6</td>\n",
              "      <td>49</td>\n",
              "      <td>46</td>\n",
              "      <td>13437</td>\n",
              "      <td>652</td>\n",
              "      <td>10834</td>\n",
              "      <td>1951</td>\n",
              "    </tr>\n",
              "    <tr>\n",
              "      <th>10693</th>\n",
              "      <td>737811</td>\n",
              "      <td>83</td>\n",
              "      <td>1</td>\n",
              "      <td>80</td>\n",
              "      <td>2</td>\n",
              "      <td>19962</td>\n",
              "      <td>719</td>\n",
              "      <td>17228</td>\n",
              "      <td>2015</td>\n",
              "    </tr>\n",
              "  </tbody>\n",
              "</table>\n",
              "</div>"
            ],
            "text/plain": [
              "         Date  New Cases  ...  Total Recovered  Total Active Cases\n",
              "10689  737811         77  ...             7392                1452\n",
              "10690  737811         92  ...             8497                3073\n",
              "10691  737811        181  ...            18591                6923\n",
              "10692  737811        101  ...            10834                1951\n",
              "10693  737811         83  ...            17228                2015\n",
              "\n",
              "[5 rows x 9 columns]"
            ]
          },
          "metadata": {
            "tags": []
          },
          "execution_count": 8
        }
      ]
    },
    {
      "cell_type": "code",
      "metadata": {
        "id": "T6rYlnvADXyx",
        "colab": {
          "base_uri": "https://localhost:8080/"
        },
        "outputId": "7a793413-7070-4ac5-e927-a87e0365e7e0"
      },
      "source": [
        "# Import train_test_split guna membagi dataset menjadi data training dan data test\r\n",
        "from sklearn.model_selection import train_test_split\r\n",
        "\r\n",
        "# Total case akan digunakan sebagai target data\r\n",
        "# variabel data akan menampung attribute dan variabel target akan menampung feature target yang akan diprediksi\r\n",
        "data = dataset.copy().drop(['Total Cases'], axis=1)\r\n",
        "target = dataset['Total Cases']\r\n",
        "# Ubah data dan target ke tipe data numpy array\r\n",
        "X = data.to_numpy()\r\n",
        "y = target.to_numpy()\r\n",
        "\r\n",
        "# Bagi data menjadi training dan test set dengan ukuran 80% training dan 20% test set, dengan random state 0\r\n",
        "X_train, X_test, y_train, y_test = train_test_split(X, y, test_size=0.2, random_state=0)\r\n",
        "\r\n",
        "# Cetak ukuran dari data hasil pembagian yaitu 'X_train', 'y_train', 'X_test', 'y_test'\r\n",
        "print(\"Shape X_train : {}\".format(X_train.shape))\r\n",
        "print(\"Shape y_train : {}\".format(y_train.shape))\r\n",
        "print(\"Shape X_test : {}\".format(X_test.shape))\r\n",
        "print(\"Shape y_test : {}\".format(y_test.shape))"
      ],
      "execution_count": 9,
      "outputs": [
        {
          "output_type": "stream",
          "text": [
            "Shape X_train : (8555, 8)\n",
            "Shape y_train : (8555,)\n",
            "Shape X_test : (2139, 8)\n",
            "Shape y_test : (2139,)\n"
          ],
          "name": "stdout"
        }
      ]
    },
    {
      "cell_type": "code",
      "metadata": {
        "colab": {
          "base_uri": "https://localhost:8080/",
          "height": 328
        },
        "id": "hK5nFNM0Dnws",
        "outputId": "ad29ff79-7686-4d2f-d18c-783effcb2e57"
      },
      "source": [
        "# Plotting grafik pertumbuhan total case di Indonesia berdasarkan tanggal\r\n",
        "plt.figure(figsize=(15,10))\r\n",
        "plt.subplot(2, 2, 1)\r\n",
        "target.plot(ax=plt.gca(), title='Indonesia')"
      ],
      "execution_count": 10,
      "outputs": [
        {
          "output_type": "execute_result",
          "data": {
            "text/plain": [
              "<matplotlib.axes._subplots.AxesSubplot at 0x7f80ef112850>"
            ]
          },
          "metadata": {
            "tags": []
          },
          "execution_count": 10
        },
        {
          "output_type": "display_data",
          "data": {
            "image/png": "[encoded data removed]",
            "text/plain": [
              "<Figure size 1080x720 with 1 Axes>"
            ]
          },
          "metadata": {
            "tags": [],
            "needs_background": "light"
          }
        }
      ]
    },
    {
      "cell_type": "code",
      "metadata": {
        "colab": {
          "base_uri": "https://localhost:8080/",
          "height": 898
        },
        "id": "7O35CDgIHFo2",
        "outputId": "442a2c51-202c-4ad9-df40-088fcb376033"
      },
      "source": [
        "# Visualisasi plotting scatter matrix dari semua attribute data\r\n",
        "\r\n",
        "dataframe = pd.DataFrame(X_train)\r\n",
        "gr = pd.plotting.scatter_matrix(dataframe,\r\n",
        "                                c=y_train,\r\n",
        "                                figsize=(15,15),\r\n",
        "                                marker='o',\r\n",
        "                                hist_kwds={'bins': 20},\r\n",
        "                                s=60,\r\n",
        "                                alpha=.8)"
      ],
      "execution_count": 11,
      "outputs": [
        {
          "output_type": "display_data",
          "data": {
            "image/png": "[encoded data removed]",
            "text/plain": [
              "<Figure size 1080x1080 with 64 Axes>"
            ]
          },
          "metadata": {
            "tags": [],
            "needs_background": "light"
          }
        }
      ]
    },
    {
      "cell_type": "code",
      "metadata": {
        "colab": {
          "base_uri": "https://localhost:8080/"
        },
        "id": "IMX_CkJsHd9-",
        "outputId": "41d46bf3-6e07-478e-ee7d-41c01af4b050"
      },
      "source": [
        "# Import library KNN Classifier untuk memprediksi berdasarkan tetangga terdekat\r\n",
        "from sklearn.neighbors import KNeighborsClassifier\r\n",
        "\r\n",
        "# Bangun model KNN dengan neighbors = 1\r\n",
        "knn = KNeighborsClassifier(n_neighbors=1)\r\n",
        "# Terapkan model KNN pada training set\r\n",
        "knn.fit(X_train, y_train)"
      ],
      "execution_count": 12,
      "outputs": [
        {
          "output_type": "execute_result",
          "data": {
            "text/plain": [
              "KNeighborsClassifier(algorithm='auto', leaf_size=30, metric='minkowski',\n",
              "                     metric_params=None, n_jobs=None, n_neighbors=1, p=2,\n",
              "                     weights='uniform')"
            ]
          },
          "metadata": {
            "tags": []
          },
          "execution_count": 12
        }
      ]
    },
    {
      "cell_type": "code",
      "metadata": {
        "colab": {
          "base_uri": "https://localhost:8080/"
        },
        "id": "LjnvqUTXGyNb",
        "outputId": "0c86b4f0-b26f-46c9-d33b-06e95b5b096a"
      },
      "source": [
        "# Membuat dummy data baru guna dilakukan prediksi\r\n",
        "x_baru = np.array([[737850, 86, 3, 60, 3, 700, 17500, 2050]])\r\n",
        "\r\n",
        "# Cetak ukuran data baru\r\n",
        "print(x_baru.shape)"
      ],
      "execution_count": 13,
      "outputs": [
        {
          "output_type": "stream",
          "text": [
            "(1, 8)\n"
          ],
          "name": "stdout"
        }
      ]
    },
    {
      "cell_type": "code",
      "metadata": {
        "colab": {
          "base_uri": "https://localhost:8080/"
        },
        "id": "g3mu7847Hu8t",
        "outputId": "a88f308c-f1ab-4e78-993d-c0b95b4df042"
      },
      "source": [
        "# Prediksi data dummy baru dengan model KNN yang dibangun\r\n",
        "prediksi = knn.predict(x_baru)\r\n",
        "\r\n",
        "# Cetak hasil prediksi total case dari dummy data baru\r\n",
        "print(\"Prediksi {}\".format(prediksi))"
      ],
      "execution_count": 14,
      "outputs": [
        {
          "output_type": "stream",
          "text": [
            "Prediksi [19938]\n"
          ],
          "name": "stdout"
        }
      ]
    },
    {
      "cell_type": "code",
      "metadata": {
        "colab": {
          "base_uri": "https://localhost:8080/"
        },
        "id": "4kXTR59SHwh0",
        "outputId": "8f5c813d-8885-44f7-fc73-57c7373d2055"
      },
      "source": [
        "# Prediksi data test set dengan model KNN yang dibangun\r\n",
        "y_pred = knn.predict(X_test)\r\n",
        "\r\n",
        "# Cetak hasil prediksi total case dari data test set\r\n",
        "print(\"Prediksi dengan data uji : \\n {}\".format(y_pred))"
      ],
      "execution_count": 15,
      "outputs": [
        {
          "output_type": "stream",
          "text": [
            "Prediksi dengan data uji : \n",
            " [ 1376   432  1067 ... 12403  7975  1463]\n"
          ],
          "name": "stdout"
        }
      ]
    },
    {
      "cell_type": "code",
      "metadata": {
        "colab": {
          "base_uri": "https://localhost:8080/"
        },
        "id": "dB6v-AvpIBDh",
        "outputId": "65cc0db3-4535-44ac-c519-78b2cdad1ae4"
      },
      "source": [
        "# Cetak hasil akurasi model pada training dan test set\r\n",
        "print(\"Accuracy on training set: {:.3f}\".format(knn.score(X_train, y_train)))\r\n",
        "print(\"Accuracy on test set: {:.3f}\".format(knn.score(X_test, y_test)))"
      ],
      "execution_count": 16,
      "outputs": [
        {
          "output_type": "stream",
          "text": [
            "Accuracy on training set: 1.000\n",
            "Accuracy on test set: 0.142\n"
          ],
          "name": "stdout"
        }
      ]
    },
    {
      "cell_type": "markdown",
      "metadata": {
        "id": "kOs3PgIuJRKK"
      },
      "source": [
        "**In this week, we can conclude that K Nearest Neighbors with K = 1 is a bad model for predict COVID 19 Total Case in Indonesia**"
      ]
    },
    {
      "cell_type": "markdown",
      "metadata": {
        "id": "UJpMaVdlIrEI"
      },
      "source": [
        "# **Week 2 - Data Preprocessing**"
      ]
    },
    {
      "cell_type": "markdown",
      "metadata": {
        "id": "N8ECffxgLHmk"
      },
      "source": [
        "## **Handling Missing Value**"
      ]
    },
    {
      "cell_type": "code",
      "metadata": {
        "colab": {
          "base_uri": "https://localhost:8080/",
          "height": 436
        },
        "id": "4sKtVSlRJvqP",
        "outputId": "44558a8c-3541-48e2-8237-b42c62bcc5bc"
      },
      "source": [
        "# Cek missing value pada data set\r\n",
        "dataset.isnull()"
      ],
      "execution_count": 17,
      "outputs": [
        {
          "output_type": "execute_result",
          "data": {
            "text/html": [
              "<div>\n",
              "<style scoped>\n",
              "    .dataframe tbody tr th:only-of-type {\n",
              "        vertical-align: middle;\n",
              "    }\n",
              "\n",
              "    .dataframe tbody tr th {\n",
              "        vertical-align: top;\n",
              "    }\n",
              "\n",
              "    .dataframe thead th {\n",
              "        text-align: right;\n",
              "    }\n",
              "</style>\n",
              "<table border=\"1\" class=\"dataframe\">\n",
              "  <thead>\n",
              "    <tr style=\"text-align: right;\">\n",
              "      <th></th>\n",
              "      <th>Date</th>\n",
              "      <th>New Cases</th>\n",
              "      <th>New Deaths</th>\n",
              "      <th>New Recovered</th>\n",
              "      <th>New Active Cases</th>\n",
              "      <th>Total Cases</th>\n",
              "      <th>Total Deaths</th>\n",
              "      <th>Total Recovered</th>\n",
              "      <th>Total Active Cases</th>\n",
              "    </tr>\n",
              "  </thead>\n",
              "  <tbody>\n",
              "    <tr>\n",
              "      <th>0</th>\n",
              "      <td>False</td>\n",
              "      <td>False</td>\n",
              "      <td>False</td>\n",
              "      <td>False</td>\n",
              "      <td>False</td>\n",
              "      <td>False</td>\n",
              "      <td>False</td>\n",
              "      <td>False</td>\n",
              "      <td>False</td>\n",
              "    </tr>\n",
              "    <tr>\n",
              "      <th>1</th>\n",
              "      <td>False</td>\n",
              "      <td>False</td>\n",
              "      <td>False</td>\n",
              "      <td>False</td>\n",
              "      <td>False</td>\n",
              "      <td>False</td>\n",
              "      <td>False</td>\n",
              "      <td>False</td>\n",
              "      <td>False</td>\n",
              "    </tr>\n",
              "    <tr>\n",
              "      <th>2</th>\n",
              "      <td>False</td>\n",
              "      <td>False</td>\n",
              "      <td>False</td>\n",
              "      <td>False</td>\n",
              "      <td>False</td>\n",
              "      <td>False</td>\n",
              "      <td>False</td>\n",
              "      <td>False</td>\n",
              "      <td>False</td>\n",
              "    </tr>\n",
              "    <tr>\n",
              "      <th>3</th>\n",
              "      <td>False</td>\n",
              "      <td>False</td>\n",
              "      <td>False</td>\n",
              "      <td>False</td>\n",
              "      <td>False</td>\n",
              "      <td>False</td>\n",
              "      <td>False</td>\n",
              "      <td>False</td>\n",
              "      <td>False</td>\n",
              "    </tr>\n",
              "    <tr>\n",
              "      <th>4</th>\n",
              "      <td>False</td>\n",
              "      <td>False</td>\n",
              "      <td>False</td>\n",
              "      <td>False</td>\n",
              "      <td>False</td>\n",
              "      <td>False</td>\n",
              "      <td>False</td>\n",
              "      <td>False</td>\n",
              "      <td>False</td>\n",
              "    </tr>\n",
              "    <tr>\n",
              "      <th>...</th>\n",
              "      <td>...</td>\n",
              "      <td>...</td>\n",
              "      <td>...</td>\n",
              "      <td>...</td>\n",
              "      <td>...</td>\n",
              "      <td>...</td>\n",
              "      <td>...</td>\n",
              "      <td>...</td>\n",
              "      <td>...</td>\n",
              "    </tr>\n",
              "    <tr>\n",
              "      <th>10689</th>\n",
              "      <td>False</td>\n",
              "      <td>False</td>\n",
              "      <td>False</td>\n",
              "      <td>False</td>\n",
              "      <td>False</td>\n",
              "      <td>False</td>\n",
              "      <td>False</td>\n",
              "      <td>False</td>\n",
              "      <td>False</td>\n",
              "    </tr>\n",
              "    <tr>\n",
              "      <th>10690</th>\n",
              "      <td>False</td>\n",
              "      <td>False</td>\n",
              "      <td>False</td>\n",
              "      <td>False</td>\n",
              "      <td>False</td>\n",
              "      <td>False</td>\n",
              "      <td>False</td>\n",
              "      <td>False</td>\n",
              "      <td>False</td>\n",
              "    </tr>\n",
              "    <tr>\n",
              "      <th>10691</th>\n",
              "      <td>False</td>\n",
              "      <td>False</td>\n",
              "      <td>False</td>\n",
              "      <td>False</td>\n",
              "      <td>False</td>\n",
              "      <td>False</td>\n",
              "      <td>False</td>\n",
              "      <td>False</td>\n",
              "      <td>False</td>\n",
              "    </tr>\n",
              "    <tr>\n",
              "      <th>10692</th>\n",
              "      <td>False</td>\n",
              "      <td>False</td>\n",
              "      <td>False</td>\n",
              "      <td>False</td>\n",
              "      <td>False</td>\n",
              "      <td>False</td>\n",
              "      <td>False</td>\n",
              "      <td>False</td>\n",
              "      <td>False</td>\n",
              "    </tr>\n",
              "    <tr>\n",
              "      <th>10693</th>\n",
              "      <td>False</td>\n",
              "      <td>False</td>\n",
              "      <td>False</td>\n",
              "      <td>False</td>\n",
              "      <td>False</td>\n",
              "      <td>False</td>\n",
              "      <td>False</td>\n",
              "      <td>False</td>\n",
              "      <td>False</td>\n",
              "    </tr>\n",
              "  </tbody>\n",
              "</table>\n",
              "<p>10694 rows × 9 columns</p>\n",
              "</div>"
            ],
            "text/plain": [
              "        Date  New Cases  ...  Total Recovered  Total Active Cases\n",
              "0      False      False  ...            False               False\n",
              "1      False      False  ...            False               False\n",
              "2      False      False  ...            False               False\n",
              "3      False      False  ...            False               False\n",
              "4      False      False  ...            False               False\n",
              "...      ...        ...  ...              ...                 ...\n",
              "10689  False      False  ...            False               False\n",
              "10690  False      False  ...            False               False\n",
              "10691  False      False  ...            False               False\n",
              "10692  False      False  ...            False               False\n",
              "10693  False      False  ...            False               False\n",
              "\n",
              "[10694 rows x 9 columns]"
            ]
          },
          "metadata": {
            "tags": []
          },
          "execution_count": 17
        }
      ]
    },
    {
      "cell_type": "code",
      "metadata": {
        "colab": {
          "base_uri": "https://localhost:8080/"
        },
        "id": "EUOG3NtyKC0_",
        "outputId": "dc4d4f96-9d5f-4133-f8cb-7b993aa45815"
      },
      "source": [
        "# Cek jumlah total missing value pada setiap feature atau kolom\r\n",
        "dataset.isnull().sum()"
      ],
      "execution_count": 18,
      "outputs": [
        {
          "output_type": "execute_result",
          "data": {
            "text/plain": [
              "Date                  0\n",
              "New Cases             0\n",
              "New Deaths            0\n",
              "New Recovered         0\n",
              "New Active Cases      0\n",
              "Total Cases           0\n",
              "Total Deaths          0\n",
              "Total Recovered       0\n",
              "Total Active Cases    0\n",
              "dtype: int64"
            ]
          },
          "metadata": {
            "tags": []
          },
          "execution_count": 18
        }
      ]
    },
    {
      "cell_type": "markdown",
      "metadata": {
        "id": "zCb2ahCkKcO6"
      },
      "source": [
        "**Because no missing value in our dataset, we dont need to use dropna and fillna.\r\n",
        "So, here we comment this code**"
      ]
    },
    {
      "cell_type": "code",
      "metadata": {
        "id": "B46Bq9qVKMTG"
      },
      "source": [
        "## Handle missing value dengan drop data atau isi cell kosong, tetapi pada dataset ini tidak terdapat missing value\r\n",
        "\r\n",
        "# dataset.dropna(axis=0)\r\n",
        "# dataset.dropna(axis=1)\r\n",
        "# dataset.dropna(how='all')\r\n",
        "# dataset.dropna(thresh=11)\r\n",
        "# dataset.dropna(subset=['Date'])\r\n",
        "\r\n",
        "## Fill missing value with mean\r\n",
        "# dataset = dataset.fillna(dataset.mean())\r\n",
        "\r\n",
        "# dataset.values"
      ],
      "execution_count": 19,
      "outputs": []
    },
    {
      "cell_type": "code",
      "metadata": {
        "colab": {
          "base_uri": "https://localhost:8080/",
          "height": 221
        },
        "id": "qR-dswzYK-L6",
        "outputId": "c16ce68a-4d4e-481d-b924-ce966ce83f71"
      },
      "source": [
        "# Lihat 5 data pertama dari dataset\r\n",
        "dataset.head()"
      ],
      "execution_count": 20,
      "outputs": [
        {
          "output_type": "execute_result",
          "data": {
            "text/html": [
              "<div>\n",
              "<style scoped>\n",
              "    .dataframe tbody tr th:only-of-type {\n",
              "        vertical-align: middle;\n",
              "    }\n",
              "\n",
              "    .dataframe tbody tr th {\n",
              "        vertical-align: top;\n",
              "    }\n",
              "\n",
              "    .dataframe thead th {\n",
              "        text-align: right;\n",
              "    }\n",
              "</style>\n",
              "<table border=\"1\" class=\"dataframe\">\n",
              "  <thead>\n",
              "    <tr style=\"text-align: right;\">\n",
              "      <th></th>\n",
              "      <th>Date</th>\n",
              "      <th>New Cases</th>\n",
              "      <th>New Deaths</th>\n",
              "      <th>New Recovered</th>\n",
              "      <th>New Active Cases</th>\n",
              "      <th>Total Cases</th>\n",
              "      <th>Total Deaths</th>\n",
              "      <th>Total Recovered</th>\n",
              "      <th>Total Active Cases</th>\n",
              "    </tr>\n",
              "  </thead>\n",
              "  <tbody>\n",
              "    <tr>\n",
              "      <th>0</th>\n",
              "      <td>737485</td>\n",
              "      <td>2</td>\n",
              "      <td>0</td>\n",
              "      <td>0</td>\n",
              "      <td>2</td>\n",
              "      <td>489</td>\n",
              "      <td>20</td>\n",
              "      <td>39</td>\n",
              "      <td>430</td>\n",
              "    </tr>\n",
              "    <tr>\n",
              "      <th>1</th>\n",
              "      <td>737486</td>\n",
              "      <td>2</td>\n",
              "      <td>0</td>\n",
              "      <td>0</td>\n",
              "      <td>2</td>\n",
              "      <td>491</td>\n",
              "      <td>20</td>\n",
              "      <td>39</td>\n",
              "      <td>432</td>\n",
              "    </tr>\n",
              "    <tr>\n",
              "      <th>2</th>\n",
              "      <td>737486</td>\n",
              "      <td>2</td>\n",
              "      <td>0</td>\n",
              "      <td>0</td>\n",
              "      <td>2</td>\n",
              "      <td>2</td>\n",
              "      <td>0</td>\n",
              "      <td>0</td>\n",
              "      <td>2</td>\n",
              "    </tr>\n",
              "    <tr>\n",
              "      <th>3</th>\n",
              "      <td>737486</td>\n",
              "      <td>3</td>\n",
              "      <td>0</td>\n",
              "      <td>0</td>\n",
              "      <td>3</td>\n",
              "      <td>12</td>\n",
              "      <td>5</td>\n",
              "      <td>135</td>\n",
              "      <td>-128</td>\n",
              "    </tr>\n",
              "    <tr>\n",
              "      <th>4</th>\n",
              "      <td>737486</td>\n",
              "      <td>1</td>\n",
              "      <td>0</td>\n",
              "      <td>0</td>\n",
              "      <td>1</td>\n",
              "      <td>2</td>\n",
              "      <td>1</td>\n",
              "      <td>1</td>\n",
              "      <td>0</td>\n",
              "    </tr>\n",
              "  </tbody>\n",
              "</table>\n",
              "</div>"
            ],
            "text/plain": [
              "     Date  New Cases  ...  Total Recovered  Total Active Cases\n",
              "0  737485          2  ...               39                 430\n",
              "1  737486          2  ...               39                 432\n",
              "2  737486          2  ...                0                   2\n",
              "3  737486          3  ...              135                -128\n",
              "4  737486          1  ...                1                   0\n",
              "\n",
              "[5 rows x 9 columns]"
            ]
          },
          "metadata": {
            "tags": []
          },
          "execution_count": 20
        }
      ]
    },
    {
      "cell_type": "code",
      "metadata": {
        "colab": {
          "base_uri": "https://localhost:8080/",
          "height": 221
        },
        "id": "YhkBfIQcK_kH",
        "outputId": "fec3574d-ff77-4110-ded0-42adc46819ed"
      },
      "source": [
        "# Lihat 5 data terakhir dari dataset\r\n",
        "dataset.tail()"
      ],
      "execution_count": 21,
      "outputs": [
        {
          "output_type": "execute_result",
          "data": {
            "text/html": [
              "<div>\n",
              "<style scoped>\n",
              "    .dataframe tbody tr th:only-of-type {\n",
              "        vertical-align: middle;\n",
              "    }\n",
              "\n",
              "    .dataframe tbody tr th {\n",
              "        vertical-align: top;\n",
              "    }\n",
              "\n",
              "    .dataframe thead th {\n",
              "        text-align: right;\n",
              "    }\n",
              "</style>\n",
              "<table border=\"1\" class=\"dataframe\">\n",
              "  <thead>\n",
              "    <tr style=\"text-align: right;\">\n",
              "      <th></th>\n",
              "      <th>Date</th>\n",
              "      <th>New Cases</th>\n",
              "      <th>New Deaths</th>\n",
              "      <th>New Recovered</th>\n",
              "      <th>New Active Cases</th>\n",
              "      <th>Total Cases</th>\n",
              "      <th>Total Deaths</th>\n",
              "      <th>Total Recovered</th>\n",
              "      <th>Total Active Cases</th>\n",
              "    </tr>\n",
              "  </thead>\n",
              "  <tbody>\n",
              "    <tr>\n",
              "      <th>10689</th>\n",
              "      <td>737811</td>\n",
              "      <td>77</td>\n",
              "      <td>1</td>\n",
              "      <td>1</td>\n",
              "      <td>75</td>\n",
              "      <td>9016</td>\n",
              "      <td>172</td>\n",
              "      <td>7392</td>\n",
              "      <td>1452</td>\n",
              "    </tr>\n",
              "    <tr>\n",
              "      <th>10690</th>\n",
              "      <td>737811</td>\n",
              "      <td>92</td>\n",
              "      <td>2</td>\n",
              "      <td>83</td>\n",
              "      <td>7</td>\n",
              "      <td>11931</td>\n",
              "      <td>361</td>\n",
              "      <td>8497</td>\n",
              "      <td>3073</td>\n",
              "    </tr>\n",
              "    <tr>\n",
              "      <th>10691</th>\n",
              "      <td>737811</td>\n",
              "      <td>181</td>\n",
              "      <td>4</td>\n",
              "      <td>49</td>\n",
              "      <td>128</td>\n",
              "      <td>26091</td>\n",
              "      <td>577</td>\n",
              "      <td>18591</td>\n",
              "      <td>6923</td>\n",
              "    </tr>\n",
              "    <tr>\n",
              "      <th>10692</th>\n",
              "      <td>737811</td>\n",
              "      <td>101</td>\n",
              "      <td>6</td>\n",
              "      <td>49</td>\n",
              "      <td>46</td>\n",
              "      <td>13437</td>\n",
              "      <td>652</td>\n",
              "      <td>10834</td>\n",
              "      <td>1951</td>\n",
              "    </tr>\n",
              "    <tr>\n",
              "      <th>10693</th>\n",
              "      <td>737811</td>\n",
              "      <td>83</td>\n",
              "      <td>1</td>\n",
              "      <td>80</td>\n",
              "      <td>2</td>\n",
              "      <td>19962</td>\n",
              "      <td>719</td>\n",
              "      <td>17228</td>\n",
              "      <td>2015</td>\n",
              "    </tr>\n",
              "  </tbody>\n",
              "</table>\n",
              "</div>"
            ],
            "text/plain": [
              "         Date  New Cases  ...  Total Recovered  Total Active Cases\n",
              "10689  737811         77  ...             7392                1452\n",
              "10690  737811         92  ...             8497                3073\n",
              "10691  737811        181  ...            18591                6923\n",
              "10692  737811        101  ...            10834                1951\n",
              "10693  737811         83  ...            17228                2015\n",
              "\n",
              "[5 rows x 9 columns]"
            ]
          },
          "metadata": {
            "tags": []
          },
          "execution_count": 21
        }
      ]
    },
    {
      "cell_type": "markdown",
      "metadata": {
        "id": "lg220ZYILMWb"
      },
      "source": [
        "## **Data Normalization**"
      ]
    },
    {
      "cell_type": "markdown",
      "metadata": {
        "id": "tnyOfkwYFmAw"
      },
      "source": [
        "### **Min Max Normalization**"
      ]
    },
    {
      "cell_type": "code",
      "metadata": {
        "id": "_PL2k0jZLEfj",
        "colab": {
          "base_uri": "https://localhost:8080/"
        },
        "outputId": "e5a003e9-b35d-495b-9aa9-25bd807b4955"
      },
      "source": [
        "# Import library Min Max Scaler untuk normalization\r\n",
        "from sklearn.preprocessing import MinMaxScaler\r\n",
        "\r\n",
        "# Lakukan proses Min Max Normalization untuk data X (attribute)\r\n",
        "mms = MinMaxScaler()\r\n",
        "X_train_norm = mms.fit_transform(X_train)\r\n",
        "X_test_norm = mms.fit_transform(X_test)\r\n",
        "\r\n",
        "# Cetak ukuran dimensi dari data hasil normalisasi\r\n",
        "print(\"Shape X_train_norm : {}\".format(X_train_norm.shape))\r\n",
        "print(\"Shape X_test_norm : {}\".format(X_test_norm.shape))"
      ],
      "execution_count": 22,
      "outputs": [
        {
          "output_type": "stream",
          "text": [
            "Shape X_train_norm : (8555, 8)\n",
            "Shape X_test_norm : (2139, 8)\n"
          ],
          "name": "stdout"
        }
      ]
    },
    {
      "cell_type": "code",
      "metadata": {
        "colab": {
          "base_uri": "https://localhost:8080/"
        },
        "id": "1-rhMgFDLXV-",
        "outputId": "c450ac9f-82b9-47e5-ae14-d1bed154f365"
      },
      "source": [
        "# Cetak data X_train setelah dilakukan normalisasi\r\n",
        "X_train_norm"
      ],
      "execution_count": 23,
      "outputs": [
        {
          "output_type": "execute_result",
          "data": {
            "text/plain": [
              "array([[3.34355828e-01, 1.40607424e-04, 0.00000000e+00, ...,\n",
              "        4.77888468e-04, 1.69515651e-04, 1.02117455e-03],\n",
              "       [1.07361963e-01, 0.00000000e+00, 0.00000000e+00, ...,\n",
              "        0.00000000e+00, 0.00000000e+00, 8.56468976e-04],\n",
              "       [3.34355828e-01, 5.62429696e-04, 0.00000000e+00, ...,\n",
              "        1.83803257e-04, 4.05025945e-04, 1.41646792e-03],\n",
              "       ...,\n",
              "       [3.49693252e-01, 0.00000000e+00, 0.00000000e+00, ...,\n",
              "        1.10281954e-04, 1.68221638e-04, 1.44282081e-03],\n",
              "       [9.26380368e-01, 5.69460067e-03, 1.15606936e-02, ...,\n",
              "        2.10638533e-02, 2.92395088e-02, 1.02644513e-02],\n",
              "       [3.03680982e-01, 7.03037120e-05, 0.00000000e+00, ...,\n",
              "        5.88170422e-04, 1.63045588e-04, 1.40329148e-03]])"
            ]
          },
          "metadata": {
            "tags": []
          },
          "execution_count": 23
        }
      ]
    },
    {
      "cell_type": "code",
      "metadata": {
        "colab": {
          "base_uri": "https://localhost:8080/"
        },
        "id": "tS1M7xYILY5B",
        "outputId": "4afac609-0723-405a-dab4-52766007162d"
      },
      "source": [
        "# Cetak data X_test setelah dilakukan normalisasi\r\n",
        "X_test_norm"
      ],
      "execution_count": 24,
      "outputs": [
        {
          "output_type": "execute_result",
          "data": {
            "text/plain": [
              "array([[5.38699690e-01, 5.05722651e-03, 0.00000000e+00, ...,\n",
              "        1.09117891e-03, 1.44108227e-03, 4.94488046e-03],\n",
              "       [1.57894737e-01, 2.92786798e-03, 0.00000000e+00, ...,\n",
              "        1.48400332e-03, 1.26740134e-04, 3.90146532e-03],\n",
              "       [3.34365325e-01, 3.85946234e-03, 5.64971751e-03, ...,\n",
              "        1.92047488e-03, 1.14066121e-03, 3.66556276e-03],\n",
              "       ...,\n",
              "       [8.76160991e-01, 6.92041522e-03, 0.00000000e+00, ...,\n",
              "        6.19789621e-03, 9.13467782e-03, 5.98920292e-02],\n",
              "       [7.95665635e-01, 2.79478307e-03, 0.00000000e+00, ...,\n",
              "        1.27886168e-02, 9.72143770e-03, 1.40815678e-02],\n",
              "       [2.63157895e-01, 5.98882087e-03, 0.00000000e+00, ...,\n",
              "        2.88071232e-03, 8.15205061e-04, 8.71932133e-03]])"
            ]
          },
          "metadata": {
            "tags": []
          },
          "execution_count": 24
        }
      ]
    },
    {
      "cell_type": "markdown",
      "metadata": {
        "id": "1ys8pybzGCJA"
      },
      "source": [
        "### **Standard Normalization**"
      ]
    },
    {
      "cell_type": "code",
      "metadata": {
        "id": "-b5rQ8zCLaiz",
        "colab": {
          "base_uri": "https://localhost:8080/"
        },
        "outputId": "691fa30f-ba74-43bd-f83c-abfe2e111ba5"
      },
      "source": [
        "# Import Library Standard Scaler untuk normalization\r\n",
        "from sklearn.preprocessing import StandardScaler\r\n",
        "\r\n",
        "# Lakukan proses Standard Normalization untuk data X (attribute)\r\n",
        "stdsc = StandardScaler()\r\n",
        "X_train_std = stdsc.fit_transform(X_train)\r\n",
        "X_test_std = stdsc.fit_transform(X_test)\r\n",
        "\r\n",
        "# Cetak ukuran dimensi data hasil normalisasi\r\n",
        "print(\"Shape X_train_std : {}\".format(X_train_std.shape))\r\n",
        "print(\"Shape X_test_std : {}\".format(X_test_std.shape))"
      ],
      "execution_count": 25,
      "outputs": [
        {
          "output_type": "stream",
          "text": [
            "Shape X_train_std : (8555, 8)\n",
            "Shape X_test_std : (2139, 8)\n"
          ],
          "name": "stdout"
        }
      ]
    },
    {
      "cell_type": "code",
      "metadata": {
        "colab": {
          "base_uri": "https://localhost:8080/"
        },
        "id": "Hf47QzWWLdZH",
        "outputId": "e70cd017-3bfd-4c88-ab4d-5afe4c7e18f2"
      },
      "source": [
        "# Cetak data X_train setelah dilakukan normalisasi\r\n",
        "X_train_std"
      ],
      "execution_count": 26,
      "outputs": [
        {
          "output_type": "execute_result",
          "data": {
            "text/plain": [
              "array([[-0.71887296, -0.24003572, -0.25657706, ..., -0.23944342,\n",
              "        -0.21526239, -0.26836372],\n",
              "       [-1.55452188, -0.24261559, -0.25657706, ..., -0.24557259,\n",
              "        -0.21764246, -0.27071226],\n",
              "       [-0.71887296, -0.23229611, -0.25657706, ..., -0.24321522,\n",
              "        -0.21195573, -0.26272721],\n",
              "       ...,\n",
              "       [-0.6624102 , -0.24261559, -0.25657706, ..., -0.24415817,\n",
              "        -0.21528056, -0.26235145],\n",
              "       [ 1.46058975, -0.13813085, -0.06285496, ...,  0.02458213,\n",
              "         0.19289208, -0.13656348],\n",
              "       [-0.83179849, -0.24132565, -0.25657706, ..., -0.238029  ,\n",
              "        -0.21535323, -0.2629151 ]])"
            ]
          },
          "metadata": {
            "tags": []
          },
          "execution_count": 26
        }
      ]
    },
    {
      "cell_type": "code",
      "metadata": {
        "colab": {
          "base_uri": "https://localhost:8080/"
        },
        "id": "mgxeMnpcLgCK",
        "outputId": "d88a4bfe-e225-46b0-c36f-919399a8c899"
      },
      "source": [
        "# Cetak data X_test setelah dilakukan normalisasi\r\n",
        "X_test_std"
      ],
      "execution_count": 27,
      "outputs": [
        {
          "output_type": "execute_result",
          "data": {
            "text/plain": [
              "array([[-0.00156317, -0.2038174 , -0.29272795, ..., -0.25637841,\n",
              "        -0.21967039, -0.24628356],\n",
              "       [-1.39568322, -0.23667473, -0.29272795, ..., -0.2503399 ,\n",
              "        -0.24245367, -0.26200452],\n",
              "       [-0.74962759, -0.22229965, -0.21762358, ..., -0.24363045,\n",
              "        -0.22487799, -0.26555882],\n",
              "       ...,\n",
              "       [ 1.23387655, -0.17506724, -0.29272795, ..., -0.17787786,\n",
              "        -0.08630684,  0.58159574],\n",
              "       [ 0.9391845 , -0.23872832, -0.29272795, ..., -0.07656519,\n",
              "        -0.07613573, -0.10862266],\n",
              "       [-1.0103167 , -0.18944232, -0.29272795, ..., -0.22886967,\n",
              "        -0.23051957, -0.18941471]])"
            ]
          },
          "metadata": {
            "tags": []
          },
          "execution_count": 27
        }
      ]
    },
    {
      "cell_type": "markdown",
      "metadata": {
        "id": "6ZWFEZ45I2U-"
      },
      "source": [
        "# **Week 3 - Data Representation and Feature Engineering**"
      ]
    },
    {
      "cell_type": "code",
      "metadata": {
        "colab": {
          "base_uri": "https://localhost:8080/"
        },
        "id": "D0xj-E5zYNs1",
        "outputId": "783265e3-8b3e-4a7c-a3cb-206055bce0a1"
      },
      "source": [
        "# Melihat informasi missing value dan tipe data pada dataset\r\n",
        "dataset.info()"
      ],
      "execution_count": 28,
      "outputs": [
        {
          "output_type": "stream",
          "text": [
            "<class 'pandas.core.frame.DataFrame'>\n",
            "RangeIndex: 10694 entries, 0 to 10693\n",
            "Data columns (total 9 columns):\n",
            " #   Column              Non-Null Count  Dtype\n",
            "---  ------              --------------  -----\n",
            " 0   Date                10694 non-null  int64\n",
            " 1   New Cases           10694 non-null  int64\n",
            " 2   New Deaths          10694 non-null  int64\n",
            " 3   New Recovered       10694 non-null  int64\n",
            " 4   New Active Cases    10694 non-null  int64\n",
            " 5   Total Cases         10694 non-null  int64\n",
            " 6   Total Deaths        10694 non-null  int64\n",
            " 7   Total Recovered     10694 non-null  int64\n",
            " 8   Total Active Cases  10694 non-null  int64\n",
            "dtypes: int64(9)\n",
            "memory usage: 752.0 KB\n"
          ],
          "name": "stdout"
        }
      ]
    },
    {
      "cell_type": "code",
      "metadata": {
        "colab": {
          "base_uri": "https://localhost:8080/",
          "height": 334
        },
        "id": "e3TMiY2OPBHe",
        "outputId": "047bcaa1-3ef1-452e-bf9f-a83d53ebbfaa"
      },
      "source": [
        "# Melihat informasi deskripsi dari dataset\r\n",
        "dataset.describe()"
      ],
      "execution_count": 29,
      "outputs": [
        {
          "output_type": "execute_result",
          "data": {
            "text/html": [
              "<div>\n",
              "<style scoped>\n",
              "    .dataframe tbody tr th:only-of-type {\n",
              "        vertical-align: middle;\n",
              "    }\n",
              "\n",
              "    .dataframe tbody tr th {\n",
              "        vertical-align: top;\n",
              "    }\n",
              "\n",
              "    .dataframe thead th {\n",
              "        text-align: right;\n",
              "    }\n",
              "</style>\n",
              "<table border=\"1\" class=\"dataframe\">\n",
              "  <thead>\n",
              "    <tr style=\"text-align: right;\">\n",
              "      <th></th>\n",
              "      <th>Date</th>\n",
              "      <th>New Cases</th>\n",
              "      <th>New Deaths</th>\n",
              "      <th>New Recovered</th>\n",
              "      <th>New Active Cases</th>\n",
              "      <th>Total Cases</th>\n",
              "      <th>Total Deaths</th>\n",
              "      <th>Total Recovered</th>\n",
              "      <th>Total Active Cases</th>\n",
              "    </tr>\n",
              "  </thead>\n",
              "  <tbody>\n",
              "    <tr>\n",
              "      <th>count</th>\n",
              "      <td>10694.000000</td>\n",
              "      <td>10694.000000</td>\n",
              "      <td>10694.000000</td>\n",
              "      <td>10694.000000</td>\n",
              "      <td>10694.000000</td>\n",
              "      <td>10694.000000</td>\n",
              "      <td>10694.000000</td>\n",
              "      <td>10694.000000</td>\n",
              "      <td>10694.000000</td>\n",
              "    </tr>\n",
              "    <tr>\n",
              "      <th>mean</th>\n",
              "      <td>737658.554891</td>\n",
              "      <td>177.915841</td>\n",
              "      <td>5.017767</td>\n",
              "      <td>142.598092</td>\n",
              "      <td>30.299981</td>\n",
              "      <td>14636.442772</td>\n",
              "      <td>498.109875</td>\n",
              "      <td>11387.265289</td>\n",
              "      <td>2751.067608</td>\n",
              "    </tr>\n",
              "    <tr>\n",
              "      <th>std</th>\n",
              "      <td>88.511051</td>\n",
              "      <td>727.096764</td>\n",
              "      <td>19.413332</td>\n",
              "      <td>598.826355</td>\n",
              "      <td>200.531050</td>\n",
              "      <td>63454.925418</td>\n",
              "      <td>2011.373037</td>\n",
              "      <td>51933.115819</td>\n",
              "      <td>10071.339041</td>\n",
              "    </tr>\n",
              "    <tr>\n",
              "      <th>min</th>\n",
              "      <td>737485.000000</td>\n",
              "      <td>0.000000</td>\n",
              "      <td>0.000000</td>\n",
              "      <td>0.000000</td>\n",
              "      <td>-1762.000000</td>\n",
              "      <td>1.000000</td>\n",
              "      <td>0.000000</td>\n",
              "      <td>0.000000</td>\n",
              "      <td>-128.000000</td>\n",
              "    </tr>\n",
              "    <tr>\n",
              "      <th>25%</th>\n",
              "      <td>737582.000000</td>\n",
              "      <td>3.000000</td>\n",
              "      <td>0.000000</td>\n",
              "      <td>0.000000</td>\n",
              "      <td>-2.000000</td>\n",
              "      <td>246.000000</td>\n",
              "      <td>7.000000</td>\n",
              "      <td>138.000000</td>\n",
              "      <td>81.000000</td>\n",
              "    </tr>\n",
              "    <tr>\n",
              "      <th>50%</th>\n",
              "      <td>737659.000000</td>\n",
              "      <td>22.000000</td>\n",
              "      <td>0.000000</td>\n",
              "      <td>10.000000</td>\n",
              "      <td>2.000000</td>\n",
              "      <td>1765.500000</td>\n",
              "      <td>53.000000</td>\n",
              "      <td>996.000000</td>\n",
              "      <td>480.500000</td>\n",
              "    </tr>\n",
              "    <tr>\n",
              "      <th>75%</th>\n",
              "      <td>737735.000000</td>\n",
              "      <td>83.000000</td>\n",
              "      <td>2.000000</td>\n",
              "      <td>55.000000</td>\n",
              "      <td>26.000000</td>\n",
              "      <td>7056.750000</td>\n",
              "      <td>236.000000</td>\n",
              "      <td>4712.750000</td>\n",
              "      <td>1632.750000</td>\n",
              "    </tr>\n",
              "    <tr>\n",
              "      <th>max</th>\n",
              "      <td>737811.000000</td>\n",
              "      <td>14224.000000</td>\n",
              "      <td>346.000000</td>\n",
              "      <td>9755.000000</td>\n",
              "      <td>5279.000000</td>\n",
              "      <td>951651.000000</td>\n",
              "      <td>27203.000000</td>\n",
              "      <td>772790.000000</td>\n",
              "      <td>151658.000000</td>\n",
              "    </tr>\n",
              "  </tbody>\n",
              "</table>\n",
              "</div>"
            ],
            "text/plain": [
              "                Date     New Cases  ...  Total Recovered  Total Active Cases\n",
              "count   10694.000000  10694.000000  ...     10694.000000        10694.000000\n",
              "mean   737658.554891    177.915841  ...     11387.265289         2751.067608\n",
              "std        88.511051    727.096764  ...     51933.115819        10071.339041\n",
              "min    737485.000000      0.000000  ...         0.000000         -128.000000\n",
              "25%    737582.000000      3.000000  ...       138.000000           81.000000\n",
              "50%    737659.000000     22.000000  ...       996.000000          480.500000\n",
              "75%    737735.000000     83.000000  ...      4712.750000         1632.750000\n",
              "max    737811.000000  14224.000000  ...    772790.000000       151658.000000\n",
              "\n",
              "[8 rows x 9 columns]"
            ]
          },
          "metadata": {
            "tags": []
          },
          "execution_count": 29
        }
      ]
    },
    {
      "cell_type": "markdown",
      "metadata": {
        "id": "q5D7TOmnkqn0"
      },
      "source": [
        "**Because no missing value in our dataset, we dont need to use Simple Imputer, here we comment this code**"
      ]
    },
    {
      "cell_type": "code",
      "metadata": {
        "id": "166zKcc3koqH"
      },
      "source": [
        "# from sklearn.impute import SimpleImputer\r\n",
        "\r\n",
        "# imr = SimpleImputer(missing_values=np.nan, strategy='mean') # mean di setiap kolom\r\n",
        "# imr = imr.fit(dataset.values)\r\n",
        "# data_imputed = imr.transform(dataset.values)\r\n",
        "# data_imputed"
      ],
      "execution_count": 30,
      "outputs": []
    },
    {
      "cell_type": "markdown",
      "metadata": {
        "id": "b7Ngq-OsI7TK"
      },
      "source": [
        "# **Week 4 - Supervised Learning I**"
      ]
    },
    {
      "cell_type": "markdown",
      "metadata": {
        "id": "lkHq0dD1do91"
      },
      "source": [
        "## **Linear Regression**"
      ]
    },
    {
      "cell_type": "code",
      "metadata": {
        "colab": {
          "base_uri": "https://localhost:8080/"
        },
        "id": "en4wiTxFq5Tm",
        "outputId": "40a9be3a-237b-4810-c612-dd94f4a517d7"
      },
      "source": [
        "# Cetak ukuran dari X_train\r\n",
        "X_train.shape"
      ],
      "execution_count": 31,
      "outputs": [
        {
          "output_type": "execute_result",
          "data": {
            "text/plain": [
              "(8555, 8)"
            ]
          },
          "metadata": {
            "tags": []
          },
          "execution_count": 31
        }
      ]
    },
    {
      "cell_type": "code",
      "metadata": {
        "colab": {
          "base_uri": "https://localhost:8080/"
        },
        "id": "GbeQxp5lq694",
        "outputId": "d5f2c810-6612-4d8b-b14e-4e9b7fc21409"
      },
      "source": [
        "# Cetak ukuran dari X_test\r\n",
        "X_test.shape"
      ],
      "execution_count": 32,
      "outputs": [
        {
          "output_type": "execute_result",
          "data": {
            "text/plain": [
              "(2139, 8)"
            ]
          },
          "metadata": {
            "tags": []
          },
          "execution_count": 32
        }
      ]
    },
    {
      "cell_type": "markdown",
      "metadata": {
        "id": "QWfCJ-VFrRGZ"
      },
      "source": [
        "**Linear Regression with Default Dataset**"
      ]
    },
    {
      "cell_type": "code",
      "metadata": {
        "colab": {
          "base_uri": "https://localhost:8080/"
        },
        "id": "Dsk2U5-EfK0w",
        "outputId": "bc1094d4-7390-4d0d-8729-d9710417674d"
      },
      "source": [
        "# Import library linear regression\r\n",
        "from sklearn.linear_model import LinearRegression\r\n",
        "\r\n",
        "# Bangun model Linear Regression dan terapkan model pada training set\r\n",
        "lr = LinearRegression()\r\n",
        "lr.fit(X_train, y_train)\r\n",
        "\r\n",
        "# Prediksi data train dan test set dari model yang dibangun\r\n",
        "y_train_pred = lr.predict(X_train)\r\n",
        "y_test_pred = lr.predict(X_test)\r\n",
        "\r\n",
        "# Cetak akurasi dari training dan test set\r\n",
        "print(\"Accuracy on training set: {:.3f}\".format(lr.score(X_train, y_train)))\r\n",
        "print(\"Accuracy on test set: {:.3f}\".format(lr.score(X_test, y_test)))"
      ],
      "execution_count": 33,
      "outputs": [
        {
          "output_type": "stream",
          "text": [
            "Accuracy on training set: 1.000\n",
            "Accuracy on test set: 1.000\n"
          ],
          "name": "stdout"
        }
      ]
    },
    {
      "cell_type": "markdown",
      "metadata": {
        "id": "VPVXPB3grx0T"
      },
      "source": [
        "Linear regression without normalization cause to overfitting with the result"
      ]
    },
    {
      "cell_type": "markdown",
      "metadata": {
        "id": "ip1MUJfrrVgN"
      },
      "source": [
        "**Linear Regression with Min Max Normalization on Dataset**"
      ]
    },
    {
      "cell_type": "code",
      "metadata": {
        "colab": {
          "base_uri": "https://localhost:8080/"
        },
        "id": "rgBcTu6JrkS5",
        "outputId": "89453876-fde3-4544-8485-13d75725052f"
      },
      "source": [
        "# Bangun model linear regression dengan dataset yang sudah dilakukan Min Max Normalisasi\r\n",
        "lr = LinearRegression()\r\n",
        "# Terapkan model pada training set\r\n",
        "lr.fit(X_train_norm, y_train)\r\n",
        "\r\n",
        "# Prediksi data train dan test set dari model yang dibangun\r\n",
        "y_train_pred = lr.predict(X_train_norm)\r\n",
        "y_test_pred = lr.predict(X_test_norm)\r\n",
        "\r\n",
        "# Cetak akurasi dari training dan test set\r\n",
        "print(\"Accuracy on training set: {:.3f}\".format(lr.score(X_train_norm, y_train)))\r\n",
        "print(\"Accuracy on test set: {:.3f}\".format(lr.score(X_test_norm, y_test)))"
      ],
      "execution_count": 34,
      "outputs": [
        {
          "output_type": "stream",
          "text": [
            "Accuracy on training set: 1.000\n",
            "Accuracy on test set: 0.915\n"
          ],
          "name": "stdout"
        }
      ]
    },
    {
      "cell_type": "markdown",
      "metadata": {
        "id": "0PwM_m49r1BR"
      },
      "source": [
        "Linear regression with Min Max normalization can reduce the overfitting on test instance and produces a good accuracy results"
      ]
    },
    {
      "cell_type": "markdown",
      "metadata": {
        "id": "EfEphq5BrcWD"
      },
      "source": [
        "**Linear Regression with Standard Normalization on Dataset**"
      ]
    },
    {
      "cell_type": "code",
      "metadata": {
        "colab": {
          "base_uri": "https://localhost:8080/"
        },
        "id": "WwzxfuuLroJV",
        "outputId": "208ff92f-8999-48e8-fd5a-de3d6faf8bfa"
      },
      "source": [
        "# Bangun model linear regression dengan dataset yang sudah ilakukan Standard Normalisasi\r\n",
        "lr = LinearRegression()\r\n",
        "# Terapkan model pada training set\r\n",
        "lr.fit(X_train_std, y_train)\r\n",
        "\r\n",
        "# Prediksi data train dan test set dari model yang dibangun\r\n",
        "y_train_pred = lr.predict(X_train_std)\r\n",
        "y_test_pred = lr.predict(X_test_std)\r\n",
        "\r\n",
        "# Cetak akurasi model dari training dan test set\r\n",
        "print(\"Accuracy on training set: {:.3f}\".format(lr.score(X_train_std, y_train)))\r\n",
        "print(\"Accuracy on test set: {:.3f}\".format(lr.score(X_test_std, y_test)))"
      ],
      "execution_count": 35,
      "outputs": [
        {
          "output_type": "stream",
          "text": [
            "Accuracy on training set: 1.000\n",
            "Accuracy on test set: 0.758\n"
          ],
          "name": "stdout"
        }
      ]
    },
    {
      "cell_type": "markdown",
      "metadata": {
        "id": "nkh7MoQQsBL0"
      },
      "source": [
        "Linear regression with Standard normalization can reduce the overfitting on test instance, but the accuracy is lower than the model with Min Max Normalization"
      ]
    },
    {
      "cell_type": "code",
      "metadata": {
        "colab": {
          "base_uri": "https://localhost:8080/",
          "height": 221
        },
        "id": "lkPh6y68tA2G",
        "outputId": "1680d251-d116-4a2a-98ba-0310c4df23db"
      },
      "source": [
        "# Cetak 5 data pertama dari dataset\r\n",
        "dataset.head()"
      ],
      "execution_count": 36,
      "outputs": [
        {
          "output_type": "execute_result",
          "data": {
            "text/html": [
              "<div>\n",
              "<style scoped>\n",
              "    .dataframe tbody tr th:only-of-type {\n",
              "        vertical-align: middle;\n",
              "    }\n",
              "\n",
              "    .dataframe tbody tr th {\n",
              "        vertical-align: top;\n",
              "    }\n",
              "\n",
              "    .dataframe thead th {\n",
              "        text-align: right;\n",
              "    }\n",
              "</style>\n",
              "<table border=\"1\" class=\"dataframe\">\n",
              "  <thead>\n",
              "    <tr style=\"text-align: right;\">\n",
              "      <th></th>\n",
              "      <th>Date</th>\n",
              "      <th>New Cases</th>\n",
              "      <th>New Deaths</th>\n",
              "      <th>New Recovered</th>\n",
              "      <th>New Active Cases</th>\n",
              "      <th>Total Cases</th>\n",
              "      <th>Total Deaths</th>\n",
              "      <th>Total Recovered</th>\n",
              "      <th>Total Active Cases</th>\n",
              "    </tr>\n",
              "  </thead>\n",
              "  <tbody>\n",
              "    <tr>\n",
              "      <th>0</th>\n",
              "      <td>737485</td>\n",
              "      <td>2</td>\n",
              "      <td>0</td>\n",
              "      <td>0</td>\n",
              "      <td>2</td>\n",
              "      <td>489</td>\n",
              "      <td>20</td>\n",
              "      <td>39</td>\n",
              "      <td>430</td>\n",
              "    </tr>\n",
              "    <tr>\n",
              "      <th>1</th>\n",
              "      <td>737486</td>\n",
              "      <td>2</td>\n",
              "      <td>0</td>\n",
              "      <td>0</td>\n",
              "      <td>2</td>\n",
              "      <td>491</td>\n",
              "      <td>20</td>\n",
              "      <td>39</td>\n",
              "      <td>432</td>\n",
              "    </tr>\n",
              "    <tr>\n",
              "      <th>2</th>\n",
              "      <td>737486</td>\n",
              "      <td>2</td>\n",
              "      <td>0</td>\n",
              "      <td>0</td>\n",
              "      <td>2</td>\n",
              "      <td>2</td>\n",
              "      <td>0</td>\n",
              "      <td>0</td>\n",
              "      <td>2</td>\n",
              "    </tr>\n",
              "    <tr>\n",
              "      <th>3</th>\n",
              "      <td>737486</td>\n",
              "      <td>3</td>\n",
              "      <td>0</td>\n",
              "      <td>0</td>\n",
              "      <td>3</td>\n",
              "      <td>12</td>\n",
              "      <td>5</td>\n",
              "      <td>135</td>\n",
              "      <td>-128</td>\n",
              "    </tr>\n",
              "    <tr>\n",
              "      <th>4</th>\n",
              "      <td>737486</td>\n",
              "      <td>1</td>\n",
              "      <td>0</td>\n",
              "      <td>0</td>\n",
              "      <td>1</td>\n",
              "      <td>2</td>\n",
              "      <td>1</td>\n",
              "      <td>1</td>\n",
              "      <td>0</td>\n",
              "    </tr>\n",
              "  </tbody>\n",
              "</table>\n",
              "</div>"
            ],
            "text/plain": [
              "     Date  New Cases  ...  Total Recovered  Total Active Cases\n",
              "0  737485          2  ...               39                 430\n",
              "1  737486          2  ...               39                 432\n",
              "2  737486          2  ...                0                   2\n",
              "3  737486          3  ...              135                -128\n",
              "4  737486          1  ...                1                   0\n",
              "\n",
              "[5 rows x 9 columns]"
            ]
          },
          "metadata": {
            "tags": []
          },
          "execution_count": 36
        }
      ]
    },
    {
      "cell_type": "markdown",
      "metadata": {
        "id": "aqYhcA72dzbU"
      },
      "source": [
        "## **Decision Tree**"
      ]
    },
    {
      "cell_type": "code",
      "metadata": {
        "id": "X-vYdSq7uwLA"
      },
      "source": [
        "# Import library decision tree regressor dari tree\r\n",
        "from sklearn.tree import DecisionTreeRegressor\r\n",
        "\r\n",
        "# Lakukan pembagian dataset menjadi training dan test set dengan ukuran training 80% dan test set 20% dengan random state 0\r\n",
        "X_train, X_test, y_train, y_test = train_test_split(X, y, test_size=0.2, random_state=0)"
      ],
      "execution_count": 37,
      "outputs": []
    },
    {
      "cell_type": "markdown",
      "metadata": {
        "id": "uR2QV7Z17Q3x"
      },
      "source": [
        "**Decision Tree with Default Dataset**"
      ]
    },
    {
      "cell_type": "code",
      "metadata": {
        "colab": {
          "base_uri": "https://localhost:8080/"
        },
        "id": "YILBkuKgwK-W",
        "outputId": "3538ae73-b77e-43d6-e184-2cc56377244e"
      },
      "source": [
        "# Bangun model decision tree regressor dengan maksimum kedalaman tree adalah 10\r\n",
        "dtr = DecisionTreeRegressor(max_depth=10)\r\n",
        "\r\n",
        "# Terapkan model pada training set\r\n",
        "dtr.fit(X_train, y_train)\r\n",
        "\r\n",
        "# Prediksi data train dan test set dari model yang dibangun\r\n",
        "y_train_pred = dtr.predict(X_train)\r\n",
        "y_test_pred = dtr.predict(X_test)\r\n",
        "\r\n",
        "# Cetak akurasi model dari training dan test set\r\n",
        "print(\"Accuracy on training set: {:.3f}\".format(dtr.score(X_train, y_train)))\r\n",
        "print(\"Accuracy on test set: {:.3f}\".format(dtr.score(X_test, y_test)))"
      ],
      "execution_count": 38,
      "outputs": [
        {
          "output_type": "stream",
          "text": [
            "Accuracy on training set: 1.000\n",
            "Accuracy on test set: 0.999\n"
          ],
          "name": "stdout"
        }
      ]
    },
    {
      "cell_type": "markdown",
      "metadata": {
        "id": "1mUUx3PI7YXB"
      },
      "source": [
        "Decision Tree without normalization cause to overfitting with the result"
      ]
    },
    {
      "cell_type": "markdown",
      "metadata": {
        "id": "jgsI-XIj7bex"
      },
      "source": [
        "**Decision Tree with Min Max Normalization on Dataset**"
      ]
    },
    {
      "cell_type": "code",
      "metadata": {
        "colab": {
          "base_uri": "https://localhost:8080/"
        },
        "id": "WODyjYJ-wMMD",
        "outputId": "392d0436-109a-42b5-a6a8-070eb18d7a0d"
      },
      "source": [
        "# Bangun model decision tree regressor dengan dataset yang sudah dilakukan Min Max Normalisasi\r\n",
        "dtr = DecisionTreeRegressor(max_depth=10)\r\n",
        "\r\n",
        "# Terapkan model pada training set\r\n",
        "dtr.fit(X_train_norm, y_train)\r\n",
        "\r\n",
        "# Prediksi data train dan test set dari model yang dibangun\r\n",
        "y_train_pred = dtr.predict(X_train_norm)\r\n",
        "y_test_pred = dtr.predict(X_test_norm)\r\n",
        "\r\n",
        "# Cetak akurasi model dari training dan test set\r\n",
        "print(\"Accuracy on training set: {:.3f}\".format(dtr.score(X_train_norm, y_train)))\r\n",
        "print(\"Accuracy on test set: {:.3f}\".format(dtr.score(X_test_norm, y_test)))"
      ],
      "execution_count": 39,
      "outputs": [
        {
          "output_type": "stream",
          "text": [
            "Accuracy on training set: 1.000\n",
            "Accuracy on test set: 0.925\n"
          ],
          "name": "stdout"
        }
      ]
    },
    {
      "cell_type": "markdown",
      "metadata": {
        "id": "WKNL4Cy675ay"
      },
      "source": [
        "Decision Tree with Min Max normalization can reduce the overfitting on test instance and produces a good accuracy results"
      ]
    },
    {
      "cell_type": "markdown",
      "metadata": {
        "id": "T1isUo1e7lx1"
      },
      "source": [
        "**Decision Tree with Standard Normalization on Dataset**"
      ]
    },
    {
      "cell_type": "code",
      "metadata": {
        "colab": {
          "base_uri": "https://localhost:8080/"
        },
        "id": "hXG8XubwwOVd",
        "outputId": "176902bf-4986-477d-bc6f-66a3fdcff332"
      },
      "source": [
        "# Bangun model decision tree regressor dengan dataset yang sudah dilakukan Standard Normalisasi\r\n",
        "dtr = DecisionTreeRegressor(max_depth=10)\r\n",
        "\r\n",
        "# Terapkan model pada training set\r\n",
        "dtr.fit(X_train_std, y_train)\r\n",
        "\r\n",
        "# Prediksi data train dan test set dari model yang dibangun\r\n",
        "y_train_pred = dtr.predict(X_train_std)\r\n",
        "y_test_pred = dtr.predict(X_test_std)\r\n",
        "\r\n",
        "# Cetak akurasi model dari training dan test set\r\n",
        "print(\"Accuracy on training set: {:.3f}\".format(dtr.score(X_train_std, y_train)))\r\n",
        "print(\"Accuracy on test set: {:.3f}\".format(dtr.score(X_test_std, y_test)))"
      ],
      "execution_count": 40,
      "outputs": [
        {
          "output_type": "stream",
          "text": [
            "Accuracy on training set: 1.000\n",
            "Accuracy on test set: 0.829\n"
          ],
          "name": "stdout"
        }
      ]
    },
    {
      "cell_type": "markdown",
      "metadata": {
        "id": "ySVKlZ4077Md"
      },
      "source": [
        "Decision Tree with Min Max normalization can reduce the overfitting on test instance and produces a good accuracy results"
      ]
    },
    {
      "cell_type": "markdown",
      "metadata": {
        "id": "9MuzHVShd4o2"
      },
      "source": [
        "## **Random Forests**"
      ]
    },
    {
      "cell_type": "code",
      "metadata": {
        "id": "8aF-q4iE6wMp"
      },
      "source": [
        "# Import library random forest regressor dan ensemble\r\n",
        "from sklearn.ensemble import RandomForestRegressor\r\n",
        "\r\n",
        "# Lakukan pembagian dataset menjadi training dan test set dengan ukuran training 80% dan test set 20% dengan random state 1234\r\n",
        "X_train, X_test, y_train, y_test = train_test_split(X, y, test_size=0.2, random_state=1234)"
      ],
      "execution_count": 41,
      "outputs": []
    },
    {
      "cell_type": "markdown",
      "metadata": {
        "id": "_F20K1Nj7oWl"
      },
      "source": [
        "**Random Forest with Default Dataset**"
      ]
    },
    {
      "cell_type": "code",
      "metadata": {
        "colab": {
          "base_uri": "https://localhost:8080/"
        },
        "id": "lCAP0HYe7ALs",
        "outputId": "2d0b8048-09dd-414f-f545-fae3343cdc74"
      },
      "source": [
        "# Bangun model random forest regressor dengan random state 1234\r\n",
        "model = RandomForestRegressor(random_state=1234)\r\n",
        "# Terapkan model pada training set\r\n",
        "model.fit(X_train, y_train)\r\n",
        "\r\n",
        "# Prediksi data train dan test set dari model yang dibangun\r\n",
        "y_train_pred = dtr.predict(X_train)\r\n",
        "y_test_pred = dtr.predict(X_test)\r\n",
        "\r\n",
        "# Cetak akurasi model pada training dan test set\r\n",
        "print(\"Accuracy on training set: {:.3f}\".format(dtr.score(X_train, y_train)))\r\n",
        "print(\"Accuracy on test set: {:.3f}\".format(dtr.score(X_test, y_test)))"
      ],
      "execution_count": 42,
      "outputs": [
        {
          "output_type": "stream",
          "text": [
            "Accuracy on training set: -176.245\n",
            "Accuracy on test set: -153.798\n"
          ],
          "name": "stdout"
        }
      ]
    },
    {
      "cell_type": "markdown",
      "metadata": {
        "id": "R25qhnK48CDI"
      },
      "source": [
        "Random Forest approach cause overfitting for this dataset"
      ]
    },
    {
      "cell_type": "markdown",
      "metadata": {
        "id": "3VmTINeE7uH4"
      },
      "source": [
        "**Random Forest with Min Max Normalization on Dataset**"
      ]
    },
    {
      "cell_type": "code",
      "metadata": {
        "colab": {
          "base_uri": "https://localhost:8080/"
        },
        "id": "hQSXssHz7CAc",
        "outputId": "c06cb7e7-dc55-43e3-cbeb-850223ddf11a"
      },
      "source": [
        "# Bangun model random forest regressor dengan menggunakan dataset yang telah dilakukan Min Max Normalisasi\r\n",
        "model = RandomForestRegressor(random_state=1234)\r\n",
        "# Terapkan model pada training set\r\n",
        "model.fit(X_train_norm, y_train)\r\n",
        "\r\n",
        "# Prediksi data train dan test set dari model yang dibangun\r\n",
        "y_train_pred = dtr.predict(X_train_norm)\r\n",
        "y_test_pred = dtr.predict(X_test_norm)\r\n",
        "\r\n",
        "# Cetak akurasi model pada training dan test set\r\n",
        "print(\"Accuracy on training set: {:.3f}\".format(dtr.score(X_train_norm, y_train)))\r\n",
        "print(\"Accuracy on test set: {:.3f}\".format(dtr.score(X_test_norm, y_test)))"
      ],
      "execution_count": 43,
      "outputs": [
        {
          "output_type": "stream",
          "text": [
            "Accuracy on training set: -0.008\n",
            "Accuracy on test set: -0.000\n"
          ],
          "name": "stdout"
        }
      ]
    },
    {
      "cell_type": "markdown",
      "metadata": {
        "id": "7m_EywA98TQr"
      },
      "source": [
        "Random Forest with Min Max Normalization approach cause underfitting for this dataset"
      ]
    },
    {
      "cell_type": "markdown",
      "metadata": {
        "id": "Z0oeuqHN7xUJ"
      },
      "source": [
        "**Random Forest with Standard Normalization on Dataset**"
      ]
    },
    {
      "cell_type": "code",
      "metadata": {
        "colab": {
          "base_uri": "https://localhost:8080/"
        },
        "id": "PYWAwGaW7FM8",
        "outputId": "f37e47ed-597a-482b-e63f-494c8ae124c0"
      },
      "source": [
        "# Bangun model random forest regressor dengan menggunakan dataset yang telah dilakukan Standard Normalisasi\r\n",
        "model = RandomForestRegressor(random_state=1234)\r\n",
        "# Terapkan model pada training set\r\n",
        "model.fit(X_train_std, y_train)\r\n",
        "\r\n",
        "# Prediksi data train dan test set dari model yang dibangun\r\n",
        "y_train_pred = dtr.predict(X_train_std)\r\n",
        "y_test_pred = dtr.predict(X_test_std)\r\n",
        "\r\n",
        "# Cetak akurasi model pada training dan test set\r\n",
        "print(\"Accuracy on training set: {:.3f}\".format(dtr.score(X_train_std, y_train)))\r\n",
        "print(\"Accuracy on test set: {:.3f}\".format(dtr.score(X_test_std, y_test)))"
      ],
      "execution_count": 44,
      "outputs": [
        {
          "output_type": "stream",
          "text": [
            "Accuracy on training set: -1.162\n",
            "Accuracy on test set: -0.849\n"
          ],
          "name": "stdout"
        }
      ]
    },
    {
      "cell_type": "markdown",
      "metadata": {
        "id": "1ZikkosH8RsD"
      },
      "source": [
        "Random Forest with Min Max Normalization approach cause underfitting for this dataset"
      ]
    },
    {
      "cell_type": "markdown",
      "metadata": {
        "id": "NH12nruKI_96"
      },
      "source": [
        "# **Week 5 - Supervised Learning II**"
      ]
    },
    {
      "cell_type": "markdown",
      "metadata": {
        "id": "vYt5kkJL8ppM"
      },
      "source": [
        "## **K-Nearest Neighbors**"
      ]
    },
    {
      "cell_type": "markdown",
      "metadata": {
        "id": "N35GqvAcAdIh"
      },
      "source": [
        "**KNN with Default Dataset**"
      ]
    },
    {
      "cell_type": "code",
      "metadata": {
        "colab": {
          "base_uri": "https://localhost:8080/"
        },
        "id": "govDF72A9TvT",
        "outputId": "6d8fd9da-6e94-4527-cd91-173ac7ebeaf0"
      },
      "source": [
        "# Import library KNN Regressor dari neighbors\r\n",
        "from sklearn.neighbors import KNeighborsRegressor\r\n",
        "\r\n",
        "# Buat variable list untuk menyimpan akurasi dari training dan test\r\n",
        "training_accuracy = []\r\n",
        "test_accuracy = []\r\n",
        "# Buat neighbors setting dari 1-30 untuk dilakukan percobaan mencari akurasi yang optimal\r\n",
        "neighbors_settings = range(1, 31)\r\n",
        "# Buat variable untuk menampung hasil akurasi dan k yang optimal\r\n",
        "highest_accuracy = 0\r\n",
        "k_chosen = 0\r\n",
        "\r\n",
        "# Lakukan looping percobaan menggunakan K = 1-30\r\n",
        "for neighbors in neighbors_settings:\r\n",
        "  # Bangun model KNeighborsRegressor dengan jumlah neighbors dynamic 1-30 dengan weights adalah distance\r\n",
        "  clf = KNeighborsRegressor(n_neighbors=neighbors, weights='distance')\r\n",
        "  # Terapkan model pada training set\r\n",
        "  clf.fit(X_train, y_train)\r\n",
        "  # Simpan akurasi pada data training dan test set ke list\r\n",
        "  training_accuracy.append(clf.score(X_train, y_train))\r\n",
        "  test_score = clf.score(X_test, y_test)\r\n",
        "  test_accuracy.append(test_score)\r\n",
        "\r\n",
        "  # Simpan akurasi tertinggi dari percobaan menggunakan K = 1 sampai 30\r\n",
        "  if (test_score > highest_accuracy):\r\n",
        "    highest_accuracy = test_score\r\n",
        "    k_chosen = neighbors\r\n",
        "  # Cetak akurasi pada test set dan jumlah K\r\n",
        "  print(\"With K = {:d}, Test set accuracy: {:f}\".format(neighbors, test_score))"
      ],
      "execution_count": 45,
      "outputs": [
        {
          "output_type": "stream",
          "text": [
            "With K = 1, Test set accuracy: 0.999854\n",
            "With K = 2, Test set accuracy: 0.999949\n",
            "With K = 3, Test set accuracy: 0.999906\n",
            "With K = 4, Test set accuracy: 0.999896\n",
            "With K = 5, Test set accuracy: 0.999878\n",
            "With K = 6, Test set accuracy: 0.999832\n",
            "With K = 7, Test set accuracy: 0.999829\n",
            "With K = 8, Test set accuracy: 0.999805\n",
            "With K = 9, Test set accuracy: 0.999792\n",
            "With K = 10, Test set accuracy: 0.999770\n",
            "With K = 11, Test set accuracy: 0.999729\n",
            "With K = 12, Test set accuracy: 0.999706\n",
            "With K = 13, Test set accuracy: 0.999662\n",
            "With K = 14, Test set accuracy: 0.999616\n",
            "With K = 15, Test set accuracy: 0.999575\n",
            "With K = 16, Test set accuracy: 0.999524\n",
            "With K = 17, Test set accuracy: 0.999471\n",
            "With K = 18, Test set accuracy: 0.999410\n",
            "With K = 19, Test set accuracy: 0.999358\n",
            "With K = 20, Test set accuracy: 0.999292\n",
            "With K = 21, Test set accuracy: 0.999245\n",
            "With K = 22, Test set accuracy: 0.999179\n",
            "With K = 23, Test set accuracy: 0.999133\n",
            "With K = 24, Test set accuracy: 0.999061\n",
            "With K = 25, Test set accuracy: 0.998985\n",
            "With K = 26, Test set accuracy: 0.998949\n",
            "With K = 27, Test set accuracy: 0.998869\n",
            "With K = 28, Test set accuracy: 0.998798\n",
            "With K = 29, Test set accuracy: 0.998737\n",
            "With K = 30, Test set accuracy: 0.998653\n"
          ],
          "name": "stdout"
        }
      ]
    },
    {
      "cell_type": "code",
      "metadata": {
        "colab": {
          "base_uri": "https://localhost:8080/",
          "height": 296
        },
        "id": "-PY1AfIuBH98",
        "outputId": "016e9782-9235-4c7f-9af7-9b3dc3cec654"
      },
      "source": [
        "# Visualisasi plotting dari K = 1 sampai 30 dengan akurasi model pada test set\r\n",
        "plt.plot(neighbors_settings, training_accuracy, label=\"Training Accuracy\")\r\n",
        "plt.plot(neighbors_settings, test_accuracy, label=\"Test Accuracy\")\r\n",
        "# Berikan label pada plot x dan y\r\n",
        "plt.ylabel(\"Accuracy\")\r\n",
        "plt.xlabel(\"n neighbors\")\r\n",
        "plt.legend()"
      ],
      "execution_count": 46,
      "outputs": [
        {
          "output_type": "execute_result",
          "data": {
            "text/plain": [
              "<matplotlib.legend.Legend at 0x7f80ed602710>"
            ]
          },
          "metadata": {
            "tags": []
          },
          "execution_count": 46
        },
        {
          "output_type": "display_data",
          "data": {
            "image/png": "[encoded data removed]",
            "text/plain": [
              "<Figure size 432x288 with 1 Axes>"
            ]
          },
          "metadata": {
            "tags": [],
            "needs_background": "light"
          }
        }
      ]
    },
    {
      "cell_type": "markdown",
      "metadata": {
        "id": "1wCCcm78Ami2"
      },
      "source": [
        "KNN with default dataset show a good accuration but maybe cause overfitting on the result"
      ]
    },
    {
      "cell_type": "markdown",
      "metadata": {
        "id": "HauUlocDAoMT"
      },
      "source": [
        "**KNN with Min Max Normalization**"
      ]
    },
    {
      "cell_type": "code",
      "metadata": {
        "colab": {
          "base_uri": "https://localhost:8080/"
        },
        "id": "2LWP9C3W_jQO",
        "outputId": "e717d7cb-1742-423b-82c1-7db8c15b9206"
      },
      "source": [
        "# Lakukan percobaan KNN Regressor seperti sebelumnya dengan menggunakan dataset yang telah dilakukan Min Max Normalisasi\r\n",
        "\r\n",
        "# Buat variable list untuk menyimpan akurasi dari training dan test\r\n",
        "training_accuracy_norm = []\r\n",
        "test_accuracy_norm = []\r\n",
        "# Buat neighbors setting dari 1-30 untuk dilakukan percobaan mencari akurasi yang optimal\r\n",
        "neighbors_settings = range(1, 31)\r\n",
        "\r\n",
        "# Lakukan looping percobaan menggunakan K = 1-30\r\n",
        "for neighbors in neighbors_settings:\r\n",
        "  # Bangun model KNeighborsRegressor dengan jumlah neighbors dynamic 1-30 dengan weights adalah distance\r\n",
        "  clf = KNeighborsRegressor(n_neighbors=neighbors, weights='distance')\r\n",
        "  # Terapkan model pada training set\r\n",
        "  clf.fit(X_train_norm, y_train)\r\n",
        "  # Simpan akurasi pada data training dan test set ke list\r\n",
        "  training_accuracy_norm.append(clf.score(X_train_norm, y_train))\r\n",
        "  test_score = clf.score(X_test_norm, y_test)\r\n",
        "  test_accuracy_norm.append(test_score)\r\n",
        "  # Cetak akurasi pada test set dan jumlah K\r\n",
        "  print(\"With K = {:d}, Test set accuracy: {:f}\".format(neighbors, test_score))"
      ],
      "execution_count": 47,
      "outputs": [
        {
          "output_type": "stream",
          "text": [
            "With K = 1, Test set accuracy: -0.060903\n",
            "With K = 2, Test set accuracy: -1.214894\n",
            "With K = 3, Test set accuracy: -0.631223\n",
            "With K = 4, Test set accuracy: -0.422189\n",
            "With K = 5, Test set accuracy: -0.298980\n",
            "With K = 6, Test set accuracy: -0.213518\n",
            "With K = 7, Test set accuracy: -0.163336\n",
            "With K = 8, Test set accuracy: -0.127980\n",
            "With K = 9, Test set accuracy: -0.108268\n",
            "With K = 10, Test set accuracy: -0.084791\n",
            "With K = 11, Test set accuracy: -0.084254\n",
            "With K = 12, Test set accuracy: -0.070777\n",
            "With K = 13, Test set accuracy: -0.065107\n",
            "With K = 14, Test set accuracy: -0.060265\n",
            "With K = 15, Test set accuracy: -0.058313\n",
            "With K = 16, Test set accuracy: -0.054510\n",
            "With K = 17, Test set accuracy: -0.049712\n",
            "With K = 18, Test set accuracy: -0.048270\n",
            "With K = 19, Test set accuracy: -0.045151\n",
            "With K = 20, Test set accuracy: -0.039532\n",
            "With K = 21, Test set accuracy: -0.041247\n",
            "With K = 22, Test set accuracy: -0.044162\n",
            "With K = 23, Test set accuracy: -0.043180\n",
            "With K = 24, Test set accuracy: -0.042762\n",
            "With K = 25, Test set accuracy: -0.041560\n",
            "With K = 26, Test set accuracy: -0.041928\n",
            "With K = 27, Test set accuracy: -0.041483\n",
            "With K = 28, Test set accuracy: -0.037840\n",
            "With K = 29, Test set accuracy: -0.037321\n",
            "With K = 30, Test set accuracy: -0.034871\n"
          ],
          "name": "stdout"
        }
      ]
    },
    {
      "cell_type": "code",
      "metadata": {
        "colab": {
          "base_uri": "https://localhost:8080/",
          "height": 296
        },
        "id": "xZOZZNRGBhF1",
        "outputId": "d9c0d2ff-30c1-473f-df23-3f49df9cf21b"
      },
      "source": [
        "# Visualisasi plotting dari K = 1 sampai 30 dengan akurasi model pada test set\r\n",
        "plt.plot(neighbors_settings, training_accuracy_norm, label=\"Training Accuracy\")\r\n",
        "plt.plot(neighbors_settings, test_accuracy_norm, label=\"Test Accuracy\")\r\n",
        "# Berikan label pada plot x dan y\r\n",
        "plt.ylabel(\"Accuracy\")\r\n",
        "plt.xlabel(\"n neighbors\")\r\n",
        "plt.legend()"
      ],
      "execution_count": 48,
      "outputs": [
        {
          "output_type": "execute_result",
          "data": {
            "text/plain": [
              "<matplotlib.legend.Legend at 0x7f80e12b7350>"
            ]
          },
          "metadata": {
            "tags": []
          },
          "execution_count": 48
        },
        {
          "output_type": "display_data",
          "data": {
            "image/png": "[encoded data removed]",
            "text/plain": [
              "<Figure size 432x288 with 1 Axes>"
            ]
          },
          "metadata": {
            "tags": [],
            "needs_background": "light"
          }
        }
      ]
    },
    {
      "cell_type": "markdown",
      "metadata": {
        "id": "koLrTCm6A13w"
      },
      "source": [
        "KNN with Min Max Normalization on dataset show a good enough accuration for test instance"
      ]
    },
    {
      "cell_type": "markdown",
      "metadata": {
        "id": "ToKo75F5A7FB"
      },
      "source": [
        "**KNN with Standard Normalization**"
      ]
    },
    {
      "cell_type": "code",
      "metadata": {
        "colab": {
          "base_uri": "https://localhost:8080/"
        },
        "id": "LulzJNAa_wOz",
        "outputId": "a4836f62-90a6-46e0-f694-8c504e667c38"
      },
      "source": [
        "# Lakukan percobaan KNN Regressor seperti sebelumnya dengan menggunakan dataset yang telah dilakukan Standard Normalisasi\r\n",
        "\r\n",
        "# Buat variable list untuk menyimpan akurasi dari training dan test\r\n",
        "training_accuracy_std = []\r\n",
        "test_accuracy_std = []\r\n",
        "# Buat neighbors setting dari 1-30 untuk dilakukan percobaan mencari akurasi yang optimal\r\n",
        "neighbors_settings = range(1, 31)\r\n",
        "\r\n",
        "# Lakukan looping percobaan menggunakan K = 1-30\r\n",
        "for neighbors in neighbors_settings:\r\n",
        "  # Bangun model KNeighborsRegressor dengan jumlah neighbors dynamic 1-30 dengan weights adalah distance\r\n",
        "  clf = KNeighborsRegressor(n_neighbors=neighbors, weights='distance')\r\n",
        "  # Terapkan model pada training set\r\n",
        "  clf.fit(X_train_std, y_train)\r\n",
        "  # Simpan akurasi pada data training dan test set ke list\r\n",
        "  training_accuracy_std.append(clf.score(X_train_std, y_train))\r\n",
        "  test_score = clf.score(X_test_std, y_test)\r\n",
        "  test_accuracy_std.append(test_score)\r\n",
        "  # Cetak akurasi pada test set dan jumlah K\r\n",
        "  print(\"With K = {:d}, Test set accuracy: {:f}\".format(neighbors, test_score))"
      ],
      "execution_count": 49,
      "outputs": [
        {
          "output_type": "stream",
          "text": [
            "With K = 1, Test set accuracy: -0.949481\n",
            "With K = 2, Test set accuracy: -0.541733\n",
            "With K = 3, Test set accuracy: -0.373238\n",
            "With K = 4, Test set accuracy: -0.277313\n",
            "With K = 5, Test set accuracy: -0.211432\n",
            "With K = 6, Test set accuracy: -0.167609\n",
            "With K = 7, Test set accuracy: -0.134594\n",
            "With K = 8, Test set accuracy: -0.114292\n",
            "With K = 9, Test set accuracy: -0.103949\n",
            "With K = 10, Test set accuracy: -0.099040\n",
            "With K = 11, Test set accuracy: -0.091170\n",
            "With K = 12, Test set accuracy: -0.084352\n",
            "With K = 13, Test set accuracy: -0.070131\n",
            "With K = 14, Test set accuracy: -0.066676\n",
            "With K = 15, Test set accuracy: -0.063634\n",
            "With K = 16, Test set accuracy: -0.061825\n",
            "With K = 17, Test set accuracy: -0.058905\n",
            "With K = 18, Test set accuracy: -0.056079\n",
            "With K = 19, Test set accuracy: -0.049993\n",
            "With K = 20, Test set accuracy: -0.048346\n",
            "With K = 21, Test set accuracy: -0.041992\n",
            "With K = 22, Test set accuracy: -0.040564\n",
            "With K = 23, Test set accuracy: -0.037449\n",
            "With K = 24, Test set accuracy: -0.037766\n",
            "With K = 25, Test set accuracy: -0.035856\n",
            "With K = 26, Test set accuracy: -0.034379\n",
            "With K = 27, Test set accuracy: -0.032979\n",
            "With K = 28, Test set accuracy: -0.031301\n",
            "With K = 29, Test set accuracy: -0.027552\n",
            "With K = 30, Test set accuracy: -0.026478\n"
          ],
          "name": "stdout"
        }
      ]
    },
    {
      "cell_type": "code",
      "metadata": {
        "colab": {
          "base_uri": "https://localhost:8080/",
          "height": 296
        },
        "id": "NNh_ObeSB3wE",
        "outputId": "7a9d66b3-70d0-4e04-ed52-8889e8fb1f4a"
      },
      "source": [
        "# Visualisasi plotting dari K = 1 sampai 30 dengan akurasi model pada test set\r\n",
        "plt.plot(neighbors_settings, training_accuracy_std, label=\"Training Accuracy\")\r\n",
        "plt.plot(neighbors_settings, test_accuracy_std, label=\"Test Accuracy\")\r\n",
        "# Berikan label pada plot x dan y\r\n",
        "plt.ylabel(\"Accuracy\")\r\n",
        "plt.xlabel(\"n neighbors\")\r\n",
        "plt.legend()"
      ],
      "execution_count": 50,
      "outputs": [
        {
          "output_type": "execute_result",
          "data": {
            "text/plain": [
              "<matplotlib.legend.Legend at 0x7f80e123fb90>"
            ]
          },
          "metadata": {
            "tags": []
          },
          "execution_count": 50
        },
        {
          "output_type": "display_data",
          "data": {
            "image/png": "[encoded data removed]",
            "text/plain": [
              "<Figure size 432x288 with 1 Axes>"
            ]
          },
          "metadata": {
            "tags": [],
            "needs_background": "light"
          }
        }
      ]
    },
    {
      "cell_type": "markdown",
      "metadata": {
        "id": "_im0Z5JAA-EY"
      },
      "source": [
        "KNN with Standard Normalization on dataset show a good accuration on test instance than Min Max Normalization"
      ]
    },
    {
      "cell_type": "markdown",
      "metadata": {
        "id": "uSGqbhYcJCoz"
      },
      "source": [
        "# **Week 6 - Supervised Learning III**"
      ]
    },
    {
      "cell_type": "markdown",
      "metadata": {
        "id": "AECLIacmDmiB"
      },
      "source": [
        "## **Naive Bayes Classifier**"
      ]
    },
    {
      "cell_type": "markdown",
      "metadata": {
        "id": "8j3UUxY6DtjY"
      },
      "source": [
        "**Model Training**"
      ]
    },
    {
      "cell_type": "code",
      "metadata": {
        "colab": {
          "base_uri": "https://localhost:8080/"
        },
        "id": "HIBWGWugDgeG",
        "outputId": "e458e7e0-2c7c-42ac-f3db-88cb9a062dde"
      },
      "source": [
        "# Import Gassian Naive Bayes dari naive bayes\r\n",
        "from sklearn.naive_bayes import GaussianNB\r\n",
        "\r\n",
        "# Bangun model GaussianNB\r\n",
        "gnb = GaussianNB()\r\n",
        "\r\n",
        "# Terapkan model pada training set\r\n",
        "gnb.fit(X_train, y_train)"
      ],
      "execution_count": 51,
      "outputs": [
        {
          "output_type": "execute_result",
          "data": {
            "text/plain": [
              "GaussianNB(priors=None, var_smoothing=1e-09)"
            ]
          },
          "metadata": {
            "tags": []
          },
          "execution_count": 51
        }
      ]
    },
    {
      "cell_type": "code",
      "metadata": {
        "colab": {
          "base_uri": "https://localhost:8080/"
        },
        "id": "sax2poyLDh4F",
        "outputId": "16640ec5-0340-4d5c-c215-846ee397cf44"
      },
      "source": [
        "# Prediksi test set menggunakan model yang telah dibangun\r\n",
        "y_pred = gnb.predict(X_test)\r\n",
        "y_pred"
      ],
      "execution_count": 52,
      "outputs": [
        {
          "output_type": "execute_result",
          "data": {
            "text/plain": [
              "array([2949,  244,  200, ..., 2188, 6528, 1347])"
            ]
          },
          "metadata": {
            "tags": []
          },
          "execution_count": 52
        }
      ]
    },
    {
      "cell_type": "markdown",
      "metadata": {
        "id": "-821gg_WDwLA"
      },
      "source": [
        "**Check Accuracy Score**"
      ]
    },
    {
      "cell_type": "code",
      "metadata": {
        "colab": {
          "base_uri": "https://localhost:8080/"
        },
        "id": "6OLnQNUeDyJ_",
        "outputId": "1dd0151a-7f48-4af3-997b-15237464d5d3"
      },
      "source": [
        "# Import library accuracy score metrics\r\n",
        "from sklearn.metrics import accuracy_score\r\n",
        "\r\n",
        "# Cetak akurasi prediksi test set dari model\r\n",
        "print('Model accuracy score: {0:0.4f}'. format(accuracy_score(y_test, y_pred)))"
      ],
      "execution_count": 53,
      "outputs": [
        {
          "output_type": "stream",
          "text": [
            "Model accuracy score: 0.0449\n"
          ],
          "name": "stdout"
        }
      ]
    },
    {
      "cell_type": "code",
      "metadata": {
        "colab": {
          "base_uri": "https://localhost:8080/"
        },
        "id": "tOgmy2_xD15p",
        "outputId": "7ab904b8-e488-40f5-d98c-992c07c646b3"
      },
      "source": [
        "# Prediksi train set menggunakan model yang telah dibangun\r\n",
        "y_pred_train = gnb.predict(X_train)\r\n",
        "y_pred_train"
      ],
      "execution_count": 54,
      "outputs": [
        {
          "output_type": "execute_result",
          "data": {
            "text/plain": [
              "array([ 1612, 23380,   799, ...,   814,  7088,  3139])"
            ]
          },
          "metadata": {
            "tags": []
          },
          "execution_count": 54
        }
      ]
    },
    {
      "cell_type": "code",
      "metadata": {
        "colab": {
          "base_uri": "https://localhost:8080/"
        },
        "id": "7l2R4qLTD3tS",
        "outputId": "de7ff18f-6aaf-4840-c673-5a5f9d6ec385"
      },
      "source": [
        "# Cetak akurasi prediksi train set dari model\r\n",
        "print('Training-set accuracy score: {0:0.4f}'. format(accuracy_score(y_train, y_pred_train)))"
      ],
      "execution_count": 55,
      "outputs": [
        {
          "output_type": "stream",
          "text": [
            "Training-set accuracy score: 0.6325\n"
          ],
          "name": "stdout"
        }
      ]
    },
    {
      "cell_type": "code",
      "metadata": {
        "colab": {
          "base_uri": "https://localhost:8080/"
        },
        "id": "n3F5mNshD5RT",
        "outputId": "ba849dd9-077a-4302-a59a-163c4c4de726"
      },
      "source": [
        "# Cetak akurasi pada training dan test set\r\n",
        "\r\n",
        "print('Training set score: {:.4f}'.format(gnb.score(X_train, y_train)))\r\n",
        "print('Test set score: {:.4f}'.format(gnb.score(X_test, y_test)))"
      ],
      "execution_count": 56,
      "outputs": [
        {
          "output_type": "stream",
          "text": [
            "Training set score: 0.6325\n",
            "Test set score: 0.0449\n"
          ],
          "name": "stdout"
        }
      ]
    },
    {
      "cell_type": "markdown",
      "metadata": {
        "id": "lGJS6joyEhzo"
      },
      "source": [
        "**Confusion Matrix**"
      ]
    },
    {
      "cell_type": "code",
      "metadata": {
        "colab": {
          "base_uri": "https://localhost:8080/"
        },
        "id": "k58i2rgnEkAV",
        "outputId": "21ea2f60-2253-40c1-fa8a-69d1575a5a8a"
      },
      "source": [
        "# Print the Confusion Matrix and slice it into four pieces\r\n",
        "\r\n",
        "# Import confusion matrix dari metrics\r\n",
        "from sklearn.metrics import confusion_matrix\r\n",
        "\r\n",
        "# Bangun confusion matrix dari test instance\r\n",
        "cm = confusion_matrix(y_test, y_pred)\r\n",
        "\r\n",
        "# Cetak hasil confusion matrix\r\n",
        "print('Confusion matrix\\n\\n', cm)\r\n",
        "print('\\nTrue Positives(TP) = ', cm[0,0])\r\n",
        "print('\\nTrue Negatives(TN) = ', cm[1,1])\r\n",
        "print('\\nFalse Positives(FP) = ', cm[0,1])\r\n",
        "print('\\nFalse Negatives(FN) = ', cm[1,0])"
      ],
      "execution_count": 57,
      "outputs": [
        {
          "output_type": "stream",
          "text": [
            "Confusion matrix\n",
            "\n",
            " [[ 8  8  0 ...  0  0  0]\n",
            " [ 3 21  0 ...  0  0  0]\n",
            " [ 2  4  4 ...  0  0  0]\n",
            " ...\n",
            " [ 0  0  0 ...  0  0  0]\n",
            " [ 0  0  0 ...  0  0  0]\n",
            " [ 0  0  0 ...  0  0  0]]\n",
            "\n",
            "True Positives(TP) =  8\n",
            "\n",
            "True Negatives(TN) =  21\n",
            "\n",
            "False Positives(FP) =  8\n",
            "\n",
            "False Negatives(FN) =  3\n"
          ],
          "name": "stdout"
        }
      ]
    },
    {
      "cell_type": "markdown",
      "metadata": {
        "id": "TbjPJ6zFEyiT"
      },
      "source": [
        "**K-Fold Cross Validation**"
      ]
    },
    {
      "cell_type": "code",
      "metadata": {
        "colab": {
          "base_uri": "https://localhost:8080/"
        },
        "id": "ZDQsmMhGE0RM",
        "outputId": "50c953ed-9f77-46de-e97c-325b7cc3e3e4"
      },
      "source": [
        "# Lakukan 10-Fold Cross Validation\r\n",
        "\r\n",
        "# Import library cross val score dari model selection\r\n",
        "from sklearn.model_selection import cross_val_score\r\n",
        "\r\n",
        "# Cetak cross validation score dari model gaussian naive bayes\r\n",
        "scores = cross_val_score(gnb, X_train, y_train, cv = 10, scoring='accuracy')\r\n",
        "print('Cross-validation scores:{}'.format(scores))"
      ],
      "execution_count": 58,
      "outputs": [
        {
          "output_type": "stream",
          "text": [
            "/usr/local/lib/python3.7/dist-packages/sklearn/model_selection/_split.py:667: UserWarning: The least populated class in y has only 1 members, which is less than n_splits=10.\n",
            "  % (min_groups, self.n_splits)), UserWarning)\n"
          ],
          "name": "stderr"
        },
        {
          "output_type": "stream",
          "text": [
            "Cross-validation scores:[0.05023364 0.04439252 0.04556075 0.03971963 0.04439252 0.03508772\n",
            " 0.0374269  0.04912281 0.04444444 0.05263158]\n"
          ],
          "name": "stdout"
        }
      ]
    },
    {
      "cell_type": "code",
      "metadata": {
        "colab": {
          "base_uri": "https://localhost:8080/"
        },
        "id": "VZ6Koy7YE11i",
        "outputId": "7fbebc28-18d4-4119-81f1-f533964464ea"
      },
      "source": [
        "# Cetak Rata-rata dari akurasi cross-validation\r\n",
        "\r\n",
        "print('Average cross-validation score: {:.4f}'.format(scores.mean()))"
      ],
      "execution_count": 59,
      "outputs": [
        {
          "output_type": "stream",
          "text": [
            "Average cross-validation score: 0.0443\n"
          ],
          "name": "stdout"
        }
      ]
    },
    {
      "cell_type": "markdown",
      "metadata": {
        "id": "zzVWwr7ME-WL"
      },
      "source": [
        "## **Support Vector Machine**"
      ]
    },
    {
      "cell_type": "markdown",
      "metadata": {
        "id": "u-pnfCmTFF0i"
      },
      "source": [
        "**Run Support Vector Machine with default parameter**"
      ]
    },
    {
      "cell_type": "code",
      "metadata": {
        "colab": {
          "base_uri": "https://localhost:8080/"
        },
        "id": "-3dxN5VBFIRA",
        "outputId": "dfa2084b-d8ff-498e-b9d6-26aad463b97b"
      },
      "source": [
        "# Import library SVC classifier\r\n",
        "from sklearn.svm import SVC\r\n",
        "\r\n",
        "# Bangun SVC Classifier dengan default parameter\r\n",
        "svc = SVC() \r\n",
        "\r\n",
        "# Terapkan classifier ke training set\r\n",
        "svc.fit(X_train,y_train)\r\n",
        "\r\n",
        "# Prediksi test set dengan model\r\n",
        "# y_pred=svc.predict(X_test)\r\n",
        "\r\n",
        "# Cetak akurasi model pada test set\r\n",
        "print('Model accuracy score with default hyperparameters: {0:0.4f}'. format(accuracy_score(y_test, y_pred)))"
      ],
      "execution_count": 60,
      "outputs": [
        {
          "output_type": "stream",
          "text": [
            "Model accuracy score with default hyperparameters: 0.0449\n"
          ],
          "name": "stdout"
        }
      ]
    },
    {
      "cell_type": "markdown",
      "metadata": {
        "id": "WV7TRPgnJFCq"
      },
      "source": [
        "# **Week 7 - Supervised Learning IV**"
      ]
    },
    {
      "cell_type": "markdown",
      "metadata": {
        "id": "7cXPR_AhNkTz"
      },
      "source": [
        "## **Multi Layer Perceptrons Regressor**"
      ]
    },
    {
      "cell_type": "code",
      "metadata": {
        "colab": {
          "base_uri": "https://localhost:8080/"
        },
        "id": "UsQp4GKpRZ1x",
        "outputId": "9ccf9668-7e92-49be-bc12-b89c644333fa"
      },
      "source": [
        "# Import Multi layer perceptrons regressor dari neural network\r\n",
        "from sklearn.neural_network import MLPRegressor\r\n",
        "\r\n",
        "# Bangun model MLPRegressor dengan random state 0 dan sisanya merupakan default parameter\r\n",
        "mlp = MLPRegressor(random_state=0)\r\n",
        "# Terapkan model pada training set\r\n",
        "mlp.fit(X_train, y_train)\r\n",
        "\r\n",
        "# Cetak akurasi pada training dan test set\r\n",
        "print(\"Training set score: %f\" % mlp.score(X_train, y_train))\r\n",
        "print(\"Test set score: %f\" % mlp.score(X_test, y_test))"
      ],
      "execution_count": 61,
      "outputs": [
        {
          "output_type": "stream",
          "text": [
            "Training set score: 0.999995\n",
            "Test set score: 0.999996\n"
          ],
          "name": "stdout"
        }
      ]
    },
    {
      "cell_type": "code",
      "metadata": {
        "id": "zzvjHdtUIvGE",
        "colab": {
          "base_uri": "https://localhost:8080/"
        },
        "outputId": "c520e240-f453-4f95-d67b-c9422e89ff4c"
      },
      "source": [
        "# Bangun model MLPRegressor dengan max_iter 1000, random state 0 dan sisanya merupakan default parameter\r\n",
        "mlp = MLPRegressor(max_iter=1000, random_state=0)\r\n",
        "# Terapkan model pada training set\r\n",
        "mlp.fit(X_train, y_train)\r\n",
        "\r\n",
        "# Cetak akurasi pada training dan test set\r\n",
        "print(\"Training set score: %f\" % mlp.score(X_train, y_train))\r\n",
        "print(\"Test set score: %f\" % mlp.score(X_test, y_test))"
      ],
      "execution_count": 62,
      "outputs": [
        {
          "output_type": "stream",
          "text": [
            "Training set score: 0.999995\n",
            "Test set score: 0.999996\n"
          ],
          "name": "stdout"
        }
      ]
    },
    {
      "cell_type": "code",
      "metadata": {
        "id": "b1DZ-Xf4Nv-a",
        "colab": {
          "base_uri": "https://localhost:8080/"
        },
        "outputId": "43225166-4532-4908-8eb7-eed9669c142b"
      },
      "source": [
        "# Bangun model MLPRegressor dengan max_iter 1000, random state 0, ukuran hidden layer 10, dan sisanya merupakan default parameter\r\n",
        "mlp = MLPRegressor(max_iter=1000, random_state=0, hidden_layer_sizes=[10])\r\n",
        "# Terapkan model pada training set\r\n",
        "mlp.fit(X_train, y_train)\r\n",
        "\r\n",
        "# Cetak akurasi pada training dan test set\r\n",
        "print(\"Training set score: %f\" % mlp.score(X_train, y_train))\r\n",
        "print(\"Test set score: %f\" % mlp.score(X_test, y_test))"
      ],
      "execution_count": 63,
      "outputs": [
        {
          "output_type": "stream",
          "text": [
            "Training set score: 0.999998\n",
            "Test set score: 0.999996\n"
          ],
          "name": "stdout"
        }
      ]
    },
    {
      "cell_type": "code",
      "metadata": {
        "colab": {
          "base_uri": "https://localhost:8080/"
        },
        "id": "rSUs3pp0QK2p",
        "outputId": "7c6d7e01-f12f-41c7-cdb8-13a8d5b316e3"
      },
      "source": [
        "# Bangun model MLPRegressor dengan max_iter 1000, random state 0, ukuran hidden layer 10 dan 10, dan sisanya merupakan default parameter\r\n",
        "mlp = MLPRegressor(max_iter=1000, random_state=0, hidden_layer_sizes=[10, 10])\r\n",
        "# Terapkan model pada training set\r\n",
        "mlp.fit(X_train, y_train)\r\n",
        "\r\n",
        "# Cetak akurasi pada training dan test set\r\n",
        "print(\"Training set score: %f\" % mlp.score(X_train, y_train))\r\n",
        "print(\"Test set score: %f\" % mlp.score(X_test, y_test))"
      ],
      "execution_count": 64,
      "outputs": [
        {
          "output_type": "stream",
          "text": [
            "Training set score: 0.999992\n",
            "Test set score: 0.999994\n"
          ],
          "name": "stdout"
        }
      ]
    },
    {
      "cell_type": "code",
      "metadata": {
        "colab": {
          "base_uri": "https://localhost:8080/"
        },
        "id": "xg1BHiYbQSq5",
        "outputId": "b5025888-e064-4d94-cc1f-3a11439f434b"
      },
      "source": [
        "# Lakukan iterasi percobaan bangun model MLPRegressor dengan jumlah hidden layer size 10 dan 100, dan alpha 0.0001, 0.01, 0.1, dan 1\r\n",
        "for n_hidden_nodes in [10, 100]:\r\n",
        "  for alpha in [0.0001, 0.01, 0.1, 1]:\r\n",
        "    # Bangun model dengan parameter secara dinamis sesuai iterasi\r\n",
        "    mlp = MLPRegressor(max_iter=1000, random_state=0, hidden_layer_sizes=[n_hidden_nodes, n_hidden_nodes], alpha=alpha)\r\n",
        "    # Terapkan model pada training set\r\n",
        "    mlp.fit(X_train, y_train)\r\n",
        "\r\n",
        "    # Cetak hasil percobaan berupa parameter, dan akurasi model pada training dan test set\r\n",
        "    print(\"n_hidden = [{:d}, {:d}]\\nalpha = {:.4f}\".format(n_hidden_nodes, n_hidden_nodes, alpha))\r\n",
        "    print(\"\\tTraining set score: %f\" % mlp.score(X_train, y_train))\r\n",
        "    print(\"\\tTest set score: %f\" % mlp.score(X_test, y_test))"
      ],
      "execution_count": 65,
      "outputs": [
        {
          "output_type": "stream",
          "text": [
            "n_hidden = [10, 10]\n",
            "alpha = 0.0001\n",
            "\tTraining set score: 0.999992\n",
            "\tTest set score: 0.999994\n",
            "n_hidden = [10, 10]\n",
            "alpha = 0.0100\n",
            "\tTraining set score: 1.000000\n",
            "\tTest set score: 0.999999\n",
            "n_hidden = [10, 10]\n",
            "alpha = 0.1000\n",
            "\tTraining set score: 0.999999\n",
            "\tTest set score: 0.999999\n",
            "n_hidden = [10, 10]\n",
            "alpha = 1.0000\n",
            "\tTraining set score: 1.000000\n",
            "\tTest set score: 0.999999\n",
            "n_hidden = [100, 100]\n",
            "alpha = 0.0001\n",
            "\tTraining set score: 0.999982\n",
            "\tTest set score: 0.999983\n",
            "n_hidden = [100, 100]\n",
            "alpha = 0.0100\n",
            "\tTraining set score: 0.999991\n",
            "\tTest set score: 0.999991\n",
            "n_hidden = [100, 100]\n",
            "alpha = 0.1000\n",
            "\tTraining set score: 0.999826\n",
            "\tTest set score: 0.999846\n",
            "n_hidden = [100, 100]\n",
            "alpha = 1.0000\n",
            "\tTraining set score: 0.999776\n",
            "\tTest set score: 0.999792\n"
          ],
          "name": "stdout"
        }
      ]
    },
    {
      "cell_type": "code",
      "metadata": {
        "colab": {
          "base_uri": "https://localhost:8080/"
        },
        "id": "6iW_00k3Rdrp",
        "outputId": "3e194b56-b29c-46d5-8a9d-4c644c5d75a8"
      },
      "source": [
        "# compute the mean value per feature on the training set\r\n",
        "mean_on_train = X_train.mean(axis=0)\r\n",
        "# compute the standard deviation of each feature on the training set\r\n",
        "std_on_train = X_train.std(axis=0)\r\n",
        "\r\n",
        "# subtract the mean, and scale by inverse standard deviation\r\n",
        "# afterward, mean=0 and std=1\r\n",
        "X_train_scaled = (X_train - mean_on_train) / std_on_train\r\n",
        "# use THE SAME transformation (using training mean and std) on the test set\r\n",
        "X_test_scaled = (X_test - mean_on_train) / std_on_train\r\n",
        "\r\n",
        "# Bangun model MLPRegressor dengan random state 0 dan default parameter kemudian terapkan pada X_train_scaled dan y_train\r\n",
        "mlp = MLPRegressor(random_state=0)\r\n",
        "mlp.fit(X_train_scaled, y_train)\r\n",
        "\r\n",
        "# Cetak akurasi model pada training dan test set\r\n",
        "print(\"Accuracy on training set: {:.3f}\".format(mlp.score(X_train_scaled, y_train)))\r\n",
        "print(\"Accuracy on test set: {:.3f}\".format(mlp.score(X_test_scaled, y_test)))"
      ],
      "execution_count": 66,
      "outputs": [
        {
          "output_type": "stream",
          "text": [
            "Accuracy on training set: 0.782\n",
            "Accuracy on test set: 0.778\n"
          ],
          "name": "stdout"
        },
        {
          "output_type": "stream",
          "text": [
            "/usr/local/lib/python3.7/dist-packages/sklearn/neural_network/_multilayer_perceptron.py:571: ConvergenceWarning: Stochastic Optimizer: Maximum iterations (200) reached and the optimization hasn't converged yet.\n",
            "  % self.max_iter, ConvergenceWarning)\n"
          ],
          "name": "stderr"
        }
      ]
    },
    {
      "cell_type": "code",
      "metadata": {
        "colab": {
          "base_uri": "https://localhost:8080/"
        },
        "id": "fecWWZ8RRB57",
        "outputId": "7d6bf1bc-d858-428d-f653-cc3ded9c80ea"
      },
      "source": [
        "# Bangun model MLPRegressor dengan max_iter 1000, random state 0 dan default parameter kemudian terapkan pada X_train_scaled dan y_train\r\n",
        "mlp = MLPRegressor(max_iter=1000, random_state=0)\r\n",
        "mlp.fit(X_train_scaled, y_train)\r\n",
        "\r\n",
        "# Cetak akurasi model pada training dan test set\r\n",
        "print(\"Accuracy on training set: {:.3f}\".format(mlp.score(X_train_scaled, y_train)))\r\n",
        "print(\"Accuracy on test set: {:.3f}\".format(mlp.score(X_test_scaled, y_test)))"
      ],
      "execution_count": 67,
      "outputs": [
        {
          "output_type": "stream",
          "text": [
            "Accuracy on training set: 0.996\n",
            "Accuracy on test set: 0.997\n"
          ],
          "name": "stdout"
        },
        {
          "output_type": "stream",
          "text": [
            "/usr/local/lib/python3.7/dist-packages/sklearn/neural_network/_multilayer_perceptron.py:571: ConvergenceWarning: Stochastic Optimizer: Maximum iterations (1000) reached and the optimization hasn't converged yet.\n",
            "  % self.max_iter, ConvergenceWarning)\n"
          ],
          "name": "stderr"
        }
      ]
    },
    {
      "cell_type": "code",
      "metadata": {
        "colab": {
          "base_uri": "https://localhost:8080/"
        },
        "id": "WrARlb8xR35j",
        "outputId": "7d786c94-445a-48e4-c564-70e575bf0748"
      },
      "source": [
        "# Bangun model MLPRegressor dengan max_iter 1000, alpha 1, random state 0, dan default parameter kemudian terapkan pada X_train_scaled dan y_train\r\n",
        "mlp = MLPRegressor(max_iter=1000, alpha=1, random_state=0)\r\n",
        "mlp.fit(X_train_scaled, y_train)\r\n",
        "\r\n",
        "# Cetak akurasi model pada training dan test set\r\n",
        "print(\"Accuracy on training set: {:.3f}\".format(mlp.score(X_train_scaled, y_train)))\r\n",
        "print(\"Accuracy on test set: {:.3f}\".format(mlp.score(X_test_scaled, y_test)))"
      ],
      "execution_count": 68,
      "outputs": [
        {
          "output_type": "stream",
          "text": [
            "Accuracy on training set: 0.996\n",
            "Accuracy on test set: 0.997\n"
          ],
          "name": "stdout"
        },
        {
          "output_type": "stream",
          "text": [
            "/usr/local/lib/python3.7/dist-packages/sklearn/neural_network/_multilayer_perceptron.py:571: ConvergenceWarning: Stochastic Optimizer: Maximum iterations (1000) reached and the optimization hasn't converged yet.\n",
            "  % self.max_iter, ConvergenceWarning)\n"
          ],
          "name": "stderr"
        }
      ]
    },
    {
      "cell_type": "code",
      "metadata": {
        "colab": {
          "base_uri": "https://localhost:8080/"
        },
        "id": "rd7M-DMoR_AC",
        "outputId": "ea732352-cd39-4d91-9541-6656ba4d44ed"
      },
      "source": [
        "# Import library Gradient Bossting Regressor dan Mean Squared Error\r\n",
        "from sklearn.ensemble import GradientBoostingRegressor\r\n",
        "from sklearn.metrics import mean_squared_error\r\n",
        "\r\n",
        "# Bangun model Gradient Boosting Regressot dengan minimum leaf 4, learning rate 0.1 dan maksimum kedalaman 4\r\n",
        "model = GradientBoostingRegressor(min_samples_leaf= 4, learning_rate= 0.1, max_depth= 4)\r\n",
        "\r\n",
        "# Terapkan model pada training set\r\n",
        "model.fit(X_train, y_train)\r\n",
        "\r\n",
        "# Cetak akurasi pada training dan test set\r\n",
        "print(\"Accuracy on training set: {:.3f}\".format(mlp.score(X_train, y_train)))\r\n",
        "print(\"Accuracy on test set: {:.3f}\".format(mlp.score(X_test, y_test)))"
      ],
      "execution_count": 69,
      "outputs": [
        {
          "output_type": "stream",
          "text": [
            "Accuracy on training set: -5904641455.390\n",
            "Accuracy on test set: -5380996261.759\n"
          ],
          "name": "stdout"
        }
      ]
    }
  ]
}